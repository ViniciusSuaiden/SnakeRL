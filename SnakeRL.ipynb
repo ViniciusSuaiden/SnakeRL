{
 "cells": [
  {
   "cell_type": "code",
   "execution_count": null,
   "id": "secret-aerospace",
   "metadata": {
    "scrolled": true
   },
   "outputs": [],
   "source": [
    "!pip3 install torch torchvision torchaudio"
   ]
  },
  {
   "cell_type": "code",
   "execution_count": null,
   "id": "unknown-jacksonville",
   "metadata": {
    "scrolled": true
   },
   "outputs": [],
   "source": [
    "!pip3 install stable-baselines3[extra] protobuf==3.20.*"
   ]
  },
  {
   "cell_type": "code",
   "execution_count": null,
   "id": "organizational-leone",
   "metadata": {
    "scrolled": true
   },
   "outputs": [],
   "source": [
    "!sudo apt install tesseract-ocr -y"
   ]
  },
  {
   "cell_type": "code",
   "execution_count": null,
   "id": "latin-luxury",
   "metadata": {},
   "outputs": [],
   "source": [
    "!sudo apt-get install python3-tk python3-dev -y"
   ]
  },
  {
   "cell_type": "code",
   "execution_count": null,
   "id": "extra-cholesterol",
   "metadata": {
    "scrolled": true
   },
   "outputs": [],
   "source": [
    "!pip install mss pyautogui pytesseract"
   ]
  },
  {
   "cell_type": "code",
   "execution_count": 1,
   "id": "killing-channel",
   "metadata": {},
   "outputs": [],
   "source": [
    "from mss import mss\n",
    "import pyautogui\n",
    "import cv2\n",
    "import numpy as np\n",
    "from matplotlib import pyplot as plt\n",
    "import time\n",
    "from gymnasium import Env\n",
    "from gymnasium.spaces import Box, Discrete\n",
    "\n",
    "import pytesseract\n",
    "pytesseract.pytesseract.tesseract_cmd = r'/usr/bin/tesseract'"
   ]
  },
  {
   "cell_type": "code",
   "execution_count": 30,
   "id": "boring-retailer",
   "metadata": {},
   "outputs": [
    {
     "data": {
      "text/plain": [
       "'7”\\n'"
      ]
     },
     "execution_count": 30,
     "metadata": {},
     "output_type": "execute_result"
    },
    {
     "data": {
      "image/png": "[encoded data removed]",
      "text/plain": [
       "<Figure size 432x288 with 1 Axes>"
      ]
     },
     "metadata": {
      "needs_background": "light"
     },
     "output_type": "display_data"
    }
   ],
   "source": [
    "game_location = {'top': 125, 'left': 50, 'width': 60, 'height': 50}\n",
    "img = mss().grab(game_location)\n",
    "img = cv2.resize(np.array(img)[:, :, :3], (0, 0), fx=8, fy=8)\n",
    "gray = cv2.cvtColor(img, cv2.COLOR_BGR2GRAY)\n",
    "thr = cv2.cvtColor(cv2.threshold(gray, 0, 255, cv2.THRESH_BINARY + cv2.THRESH_OTSU)[1], cv2.COLOR_BGR2RGB)\n",
    "plt.imshow(cv2.cvtColor(thr, cv2.COLOR_BGR2RGB))\n",
    "pytesseract.image_to_string(thr, config=\"--psm 10 -c page_separator=''\")"
   ]
  },
  {
   "cell_type": "code",
   "execution_count": 29,
   "id": "monetary-scheme",
   "metadata": {},
   "outputs": [
    {
     "data": {
      "text/plain": [
       "<matplotlib.image.AxesImage at 0x7fea77c13d00>"
      ]
     },
     "execution_count": 29,
     "metadata": {},
     "output_type": "execute_result"
    },
    {
     "data": {
      "image/png": "[encoded data removed]",
      "text/plain": [
       "<Figure size 432x288 with 1 Axes>"
      ]
     },
     "metadata": {
      "needs_background": "light"
     },
     "output_type": "display_data"
    }
   ],
   "source": [
    "plt.imshow(env.reset()[0][0])"
   ]
  },
  {
   "cell_type": "code",
   "execution_count": 2,
   "id": "systematic-regular",
   "metadata": {},
   "outputs": [],
   "source": [
    "class WebGame(Env):\n",
    "    def __init__(self):\n",
    "        super().__init__()\n",
    "        # Setup spaces\n",
    "        self.observation_space = Box(low=0, high=255, shape=(1,200,200), dtype=np.uint8)\n",
    "        self.action_space = Discrete(4)\n",
    "        # Capture game frames\n",
    "        self.cap = mss()\n",
    "        self.game_location = {'top': 100, 'left': 0, 'width': 600, 'height': 600}\n",
    "        self.done_location = {'top': 600, 'left': 635, 'width': 75, 'height': 50}\n",
    "        self.score_location = {'top': 125, 'left': 50, 'width': 60, 'height': 50}\n",
    "\n",
    "    def step(self, action):\n",
    "        action_map = {\n",
    "            0: 'up',\n",
    "            1: 'down',\n",
    "            2: 'left',\n",
    "            3: 'right'\n",
    "        }\n",
    "        pyautogui.press(action_map[action])\n",
    "\n",
    "        reward, done = 0, False\n",
    "#         if action != self.previous_action:\n",
    "#             reward = 0.01\n",
    "#             self.previous_action = action\n",
    "        observation = self.get_observation()\n",
    "        if self.frame == 2:\n",
    "            done, done_cap = self.get_done() \n",
    "            self.frame = 0\n",
    "        else:\n",
    "            self.frame += 1\n",
    "            if self.frame == 2:\n",
    "                score = self.get_score()\n",
    "                if score != self.previous_score:\n",
    "                    reward = 1\n",
    "                    self.previous_score = score\n",
    "        \n",
    "        info = {}\n",
    "#         if done:\n",
    "#             reward = -0.1\n",
    "#         if (self.previous_action == 0 and action == 3) or (self.previous_action == 3 and action == 0):\n",
    "#             reward = 1\n",
    "#         self.previous_action = action\n",
    "        return observation, reward, done, False, info\n",
    "\n",
    "    def reset(self, **kwargs):\n",
    "        self.previous_score = \"0\\n\" \n",
    "        time.sleep(0.5)\n",
    "        pyautogui.click(x=600, y=600)\n",
    "        time.sleep(0.5)\n",
    "        pyautogui.press('up')\n",
    "        self.frame = 2\n",
    "#         self.previous_action = 0\n",
    "        return self.get_observation(), {}\n",
    "\n",
    "    def get_observation(self):\n",
    "        raw = np.array(self.cap.grab(self.game_location))[:,:,:3].astype(np.uint8)\n",
    "        gray = cv2.cvtColor(raw, cv2.COLOR_BGR2GRAY)\n",
    "        resized = cv2.resize(gray, (200,200))\n",
    "        channel = np.reshape(resized, (1,200,200))\n",
    "        return channel\n",
    "\n",
    "    def get_score(self):\n",
    "        score_cap = np.array(self.cap.grab(self.score_location))[:, :, :3]\n",
    "        img = cv2.resize(score_cap, (0, 0), fx=8, fy=8)\n",
    "        gray = cv2.cvtColor(img, cv2.COLOR_BGR2GRAY)\n",
    "        thr = cv2.cvtColor(cv2.threshold(gray, 0, 255, cv2.THRESH_BINARY + cv2.THRESH_OTSU)[1], cv2.COLOR_BGR2RGB)\n",
    "        score_string = pytesseract.image_to_string(thr, config=\"--psm 10 -c page_separator=''\")\n",
    "        score = score_string\n",
    "        return score\n",
    "\n",
    "    def get_done(self):\n",
    "        done_cap = np.array(self.cap.grab(self.done_location))[:, :, :3]\n",
    "        img = cv2.resize(done_cap, (0, 0), fx=8, fy=8)\n",
    "        gray = cv2.cvtColor(img, cv2.COLOR_BGR2GRAY)\n",
    "        thr = cv2.cvtColor(cv2.threshold(gray, 0, 255, cv2.THRESH_BINARY + cv2.THRESH_OTSU)[1], cv2.COLOR_BGR2RGB)\n",
    "        done = False\n",
    "        res = pytesseract.image_to_string(thr)\n",
    "        if 'play' in res.lower():\n",
    "            done = True\n",
    "        return done, done_cap"
   ]
  },
  {
   "cell_type": "code",
   "execution_count": 34,
   "id": "legitimate-browse",
   "metadata": {},
   "outputs": [
    {
     "data": {
      "image/png": "[encoded data removed]",
      "text/plain": [
       "<Figure size 432x288 with 1 Axes>"
      ]
     },
     "metadata": {
      "needs_background": "light"
     },
     "output_type": "display_data"
    },
    {
     "data": {
      "image/png": "[encoded data removed]",
      "text/plain": [
       "<Figure size 432x288 with 1 Axes>"
      ]
     },
     "metadata": {
      "needs_background": "light"
     },
     "output_type": "display_data"
    },
    {
     "data": {
      "image/png": "[encoded data removed]",
      "text/plain": [
       "<Figure size 432x288 with 1 Axes>"
      ]
     },
     "metadata": {
      "needs_background": "light"
     },
     "output_type": "display_data"
    },
    {
     "data": {
      "image/png": "[encoded data removed]",
      "text/plain": [
       "<Figure size 432x288 with 1 Axes>"
      ]
     },
     "metadata": {
      "needs_background": "light"
     },
     "output_type": "display_data"
    },
    {
     "data": {
      "image/png": "[encoded data removed]",
      "text/plain": [
       "<Figure size 432x288 with 1 Axes>"
      ]
     },
     "metadata": {
      "needs_background": "light"
     },
     "output_type": "display_data"
    },
    {
     "data": {
      "image/png": "[encoded data removed]",
      "text/plain": [
       "<Figure size 432x288 with 1 Axes>"
      ]
     },
     "metadata": {
      "needs_background": "light"
     },
     "output_type": "display_data"
    },
    {
     "data": {
      "image/png": "[encoded data removed]",
      "text/plain": [
       "<Figure size 432x288 with 1 Axes>"
      ]
     },
     "metadata": {
      "needs_background": "light"
     },
     "output_type": "display_data"
    },
    {
     "data": {
      "image/png": "[encoded data removed]",
      "text/plain": [
       "<Figure size 432x288 with 1 Axes>"
      ]
     },
     "metadata": {
      "needs_background": "light"
     },
     "output_type": "display_data"
    },
    {
     "data": {
      "image/png": "[encoded data removed]",
      "text/plain": [
       "<Figure size 432x288 with 1 Axes>"
      ]
     },
     "metadata": {
      "needs_background": "light"
     },
     "output_type": "display_data"
    },
    {
     "data": {
      "image/png": "[encoded data removed]",
      "text/plain": [
       "<Figure size 432x288 with 1 Axes>"
      ]
     },
     "metadata": {
      "needs_background": "light"
     },
     "output_type": "display_data"
    },
    {
     "data": {
      "image/png": "[encoded data removed]",
      "text/plain": [
       "<Figure size 432x288 with 1 Axes>"
      ]
     },
     "metadata": {
      "needs_background": "light"
     },
     "output_type": "display_data"
    },
    {
     "data": {
      "image/png": "[encoded data removed]",
      "text/plain": [
       "<Figure size 432x288 with 1 Axes>"
      ]
     },
     "metadata": {
      "needs_background": "light"
     },
     "output_type": "display_data"
    },
    {
     "data": {
      "image/png": "[encoded data removed]",
      "text/plain": [
       "<Figure size 432x288 with 1 Axes>"
      ]
     },
     "metadata": {
      "needs_background": "light"
     },
     "output_type": "display_data"
    },
    {
     "data": {
      "image/png": "[encoded data removed]",
      "text/plain": [
       "<Figure size 432x288 with 1 Axes>"
      ]
     },
     "metadata": {
      "needs_background": "light"
     },
     "output_type": "display_data"
    },
    {
     "data": {
      "image/png": "[encoded data removed]",
      "text/plain": [
       "<Figure size 432x288 with 1 Axes>"
      ]
     },
     "metadata": {
      "needs_background": "light"
     },
     "output_type": "display_data"
    },
    {
     "data": {
      "image/png": "[encoded data removed]",
      "text/plain": [
       "<Figure size 432x288 with 1 Axes>"
      ]
     },
     "metadata": {
      "needs_background": "light"
     },
     "output_type": "display_data"
    },
    {
     "data": {
      "image/png": "[encoded data removed]",
      "text/plain": [
       "<Figure size 432x288 with 1 Axes>"
      ]
     },
     "metadata": {
      "needs_background": "light"
     },
     "output_type": "display_data"
    },
    {
     "data": {
      "image/png": "[encoded data removed]",
      "text/plain": [
       "<Figure size 432x288 with 1 Axes>"
      ]
     },
     "metadata": {
      "needs_background": "light"
     },
     "output_type": "display_data"
    },
    {
     "data": {
      "image/png": "[encoded data removed]",
      "text/plain": [
       "<Figure size 432x288 with 1 Axes>"
      ]
     },
     "metadata": {
      "needs_background": "light"
     },
     "output_type": "display_data"
    },
    {
     "data": {
      "image/png": "[encoded data removed]",
      "text/plain": [
       "<Figure size 432x288 with 1 Axes>"
      ]
     },
     "metadata": {
      "needs_background": "light"
     },
     "output_type": "display_data"
    },
    {
     "data": {
      "image/png": "[encoded data removed]",
      "text/plain": [
       "<Figure size 432x288 with 1 Axes>"
      ]
     },
     "metadata": {
      "needs_background": "light"
     },
     "output_type": "display_data"
    },
    {
     "data": {
      "image/png": "[encoded data removed]",
      "text/plain": [
       "<Figure size 432x288 with 1 Axes>"
      ]
     },
     "metadata": {
      "needs_background": "light"
     },
     "output_type": "display_data"
    },
    {
     "data": {
      "image/png": "[encoded data removed]",
      "text/plain": [
       "<Figure size 432x288 with 1 Axes>"
      ]
     },
     "metadata": {
      "needs_background": "light"
     },
     "output_type": "display_data"
    },
    {
     "data": {
      "image/png": "[encoded data removed]",
      "text/plain": [
       "<Figure size 432x288 with 1 Axes>"
      ]
     },
     "metadata": {
      "needs_background": "light"
     },
     "output_type": "display_data"
    },
    {
     "data": {
      "image/png": "[encoded data removed]",
      "text/plain": [
       "<Figure size 432x288 with 1 Axes>"
      ]
     },
     "metadata": {
      "needs_background": "light"
     },
     "output_type": "display_data"
    },
    {
     "data": {
      "image/png": "[encoded data removed]",
      "text/plain": [
       "<Figure size 432x288 with 1 Axes>"
      ]
     },
     "metadata": {
      "needs_background": "light"
     },
     "output_type": "display_data"
    },
    {
     "data": {
      "image/png": "[encoded data removed]",
      "text/plain": [
       "<Figure size 432x288 with 1 Axes>"
      ]
     },
     "metadata": {
      "needs_background": "light"
     },
     "output_type": "display_data"
    },
    {
     "data": {
      "image/png": "[encoded data removed]",
      "text/plain": [
       "<Figure size 432x288 with 1 Axes>"
      ]
     },
     "metadata": {
      "needs_background": "light"
     },
     "output_type": "display_data"
    },
    {
     "data": {
      "image/png": "[encoded data removed]",
      "text/plain": [
       "<Figure size 432x288 with 1 Axes>"
      ]
     },
     "metadata": {
      "needs_background": "light"
     },
     "output_type": "display_data"
    },
    {
     "data": {
      "image/png": "[encoded data removed]",
      "text/plain": [
       "<Figure size 432x288 with 1 Axes>"
      ]
     },
     "metadata": {
      "needs_background": "light"
     },
     "output_type": "display_data"
    },
    {
     "data": {
      "image/png": "[encoded data removed]",
      "text/plain": [
       "<Figure size 432x288 with 1 Axes>"
      ]
     },
     "metadata": {
      "needs_background": "light"
     },
     "output_type": "display_data"
    },
    {
     "data": {
      "image/png": "[encoded data removed]",
      "text/plain": [
       "<Figure size 432x288 with 1 Axes>"
      ]
     },
     "metadata": {
      "needs_background": "light"
     },
     "output_type": "display_data"
    },
    {
     "data": {
      "image/png": "[encoded data removed]",
      "text/plain": [
       "<Figure size 432x288 with 1 Axes>"
      ]
     },
     "metadata": {
      "needs_background": "light"
     },
     "output_type": "display_data"
    },
    {
     "data": {
      "image/png": "[encoded data removed]",
      "text/plain": [
       "<Figure size 432x288 with 1 Axes>"
      ]
     },
     "metadata": {
      "needs_background": "light"
     },
     "output_type": "display_data"
    },
    {
     "data": {
      "image/png": "[encoded data removed]",
      "text/plain": [
       "<Figure size 432x288 with 1 Axes>"
      ]
     },
     "metadata": {
      "needs_background": "light"
     },
     "output_type": "display_data"
    },
    {
     "data": {
      "image/png": "[encoded data removed]",
      "text/plain": [
       "<Figure size 432x288 with 1 Axes>"
      ]
     },
     "metadata": {
      "needs_background": "light"
     },
     "output_type": "display_data"
    },
    {
     "data": {
      "image/png": "[encoded data removed]",
      "text/plain": [
       "<Figure size 432x288 with 1 Axes>"
      ]
     },
     "metadata": {
      "needs_background": "light"
     },
     "output_type": "display_data"
    },
    {
     "data": {
      "image/png": "[encoded data removed]",
      "text/plain": [
       "<Figure size 432x288 with 1 Axes>"
      ]
     },
     "metadata": {
      "needs_background": "light"
     },
     "output_type": "display_data"
    },
    {
     "data": {
      "image/png": "[encoded data removed]",
      "text/plain": [
       "<Figure size 432x288 with 1 Axes>"
      ]
     },
     "metadata": {
      "needs_background": "light"
     },
     "output_type": "display_data"
    },
    {
     "data": {
      "image/png": "[encoded data removed]",
      "text/plain": [
       "<Figure size 432x288 with 1 Axes>"
      ]
     },
     "metadata": {
      "needs_background": "light"
     },
     "output_type": "display_data"
    },
    {
     "data": {
      "image/png": "[encoded data removed]",
      "text/plain": [
       "<Figure size 432x288 with 1 Axes>"
      ]
     },
     "metadata": {
      "needs_background": "light"
     },
     "output_type": "display_data"
    },
    {
     "data": {
      "image/png": "[encoded data removed]",
      "text/plain": [
       "<Figure size 432x288 with 1 Axes>"
      ]
     },
     "metadata": {
      "needs_background": "light"
     },
     "output_type": "display_data"
    },
    {
     "data": {
      "image/png": "[encoded data removed]",
      "text/plain": [
       "<Figure size 432x288 with 1 Axes>"
      ]
     },
     "metadata": {
      "needs_background": "light"
     },
     "output_type": "display_data"
    },
    {
     "data": {
      "image/png": "[encoded data removed]",
      "text/plain": [
       "<Figure size 432x288 with 1 Axes>"
      ]
     },
     "metadata": {
      "needs_background": "light"
     },
     "output_type": "display_data"
    },
    {
     "data": {
      "image/png": "[encoded data removed]",
      "text/plain": [
       "<Figure size 432x288 with 1 Axes>"
      ]
     },
     "metadata": {
      "needs_background": "light"
     },
     "output_type": "display_data"
    },
    {
     "data": {
      "image/png": "[encoded data removed]",
      "text/plain": [
       "<Figure size 432x288 with 1 Axes>"
      ]
     },
     "metadata": {
      "needs_background": "light"
     },
     "output_type": "display_data"
    },
    {
     "data": {
      "image/png": "[encoded data removed]",
      "text/plain": [
       "<Figure size 432x288 with 1 Axes>"
      ]
     },
     "metadata": {
      "needs_background": "light"
     },
     "output_type": "display_data"
    },
    {
     "data": {
      "image/png": "[encoded data removed]",
      "text/plain": [
       "<Figure size 432x288 with 1 Axes>"
      ]
     },
     "metadata": {
      "needs_background": "light"
     },
     "output_type": "display_data"
    },
    {
     "data": {
      "image/png": "[encoded data removed]",
      "text/plain": [
       "<Figure size 432x288 with 1 Axes>"
      ]
     },
     "metadata": {
      "needs_background": "light"
     },
     "output_type": "display_data"
    },
    {
     "data": {
      "image/png": "[encoded data removed]",
      "text/plain": [
       "<Figure size 432x288 with 1 Axes>"
      ]
     },
     "metadata": {
      "needs_background": "light"
     },
     "output_type": "display_data"
    },
    {
     "data": {
      "image/png": "[encoded data removed]",
      "text/plain": [
       "<Figure size 432x288 with 1 Axes>"
      ]
     },
     "metadata": {
      "needs_background": "light"
     },
     "output_type": "display_data"
    },
    {
     "data": {
      "image/png": "[encoded data removed]",
      "text/plain": [
       "<Figure size 432x288 with 1 Axes>"
      ]
     },
     "metadata": {
      "needs_background": "light"
     },
     "output_type": "display_data"
    },
    {
     "data": {
      "image/png": "[encoded data removed]",
      "text/plain": [
       "<Figure size 432x288 with 1 Axes>"
      ]
     },
     "metadata": {
      "needs_background": "light"
     },
     "output_type": "display_data"
    },
    {
     "data": {
      "image/png": "[encoded data removed]",
      "text/plain": [
       "<Figure size 432x288 with 1 Axes>"
      ]
     },
     "metadata": {
      "needs_background": "light"
     },
     "output_type": "display_data"
    },
    {
     "data": {
      "image/png": "[encoded data removed]",
      "text/plain": [
       "<Figure size 432x288 with 1 Axes>"
      ]
     },
     "metadata": {
      "needs_background": "light"
     },
     "output_type": "display_data"
    },
    {
     "data": {
      "image/png": "[encoded data removed]",
      "text/plain": [
       "<Figure size 432x288 with 1 Axes>"
      ]
     },
     "metadata": {
      "needs_background": "light"
     },
     "output_type": "display_data"
    },
    {
     "data": {
      "image/png": "[encoded data removed]",
      "text/plain": [
       "<Figure size 432x288 with 1 Axes>"
      ]
     },
     "metadata": {
      "needs_background": "light"
     },
     "output_type": "display_data"
    },
    {
     "data": {
      "image/png": "[encoded data removed]",
      "text/plain": [
       "<Figure size 432x288 with 1 Axes>"
      ]
     },
     "metadata": {
      "needs_background": "light"
     },
     "output_type": "display_data"
    },
    {
     "data": {
      "image/png": "[encoded data removed]",
      "text/plain": [
       "<Figure size 432x288 with 1 Axes>"
      ]
     },
     "metadata": {
      "needs_background": "light"
     },
     "output_type": "display_data"
    },
    {
     "data": {
      "image/png": "[encoded data removed]",
      "text/plain": [
       "<Figure size 432x288 with 1 Axes>"
      ]
     },
     "metadata": {
      "needs_background": "light"
     },
     "output_type": "display_data"
    },
    {
     "data": {
      "image/png": "[encoded data removed]",
      "text/plain": [
       "<Figure size 432x288 with 1 Axes>"
      ]
     },
     "metadata": {
      "needs_background": "light"
     },
     "output_type": "display_data"
    },
    {
     "data": {
      "image/png": "[encoded data removed]",
      "text/plain": [
       "<Figure size 432x288 with 1 Axes>"
      ]
     },
     "metadata": {
      "needs_background": "light"
     },
     "output_type": "display_data"
    },
    {
     "data": {
      "image/png": "[encoded data removed]",
      "text/plain": [
       "<Figure size 432x288 with 1 Axes>"
      ]
     },
     "metadata": {
      "needs_background": "light"
     },
     "output_type": "display_data"
    },
    {
     "data": {
      "image/png": "[encoded data removed]",
      "text/plain": [
       "<Figure size 432x288 with 1 Axes>"
      ]
     },
     "metadata": {
      "needs_background": "light"
     },
     "output_type": "display_data"
    },
    {
     "data": {
      "image/png": "[encoded data removed]",
      "text/plain": [
       "<Figure size 432x288 with 1 Axes>"
      ]
     },
     "metadata": {
      "needs_background": "light"
     },
     "output_type": "display_data"
    },
    {
     "data": {
      "image/png": "[encoded data removed]",
      "text/plain": [
       "<Figure size 432x288 with 1 Axes>"
      ]
     },
     "metadata": {
      "needs_background": "light"
     },
     "output_type": "display_data"
    },
    {
     "data": {
      "image/png": "[encoded data removed]",
      "text/plain": [
       "<Figure size 432x288 with 1 Axes>"
      ]
     },
     "metadata": {
      "needs_background": "light"
     },
     "output_type": "display_data"
    },
    {
     "data": {
      "image/png": "[encoded data removed]",
      "text/plain": [
       "<Figure size 432x288 with 1 Axes>"
      ]
     },
     "metadata": {
      "needs_background": "light"
     },
     "output_type": "display_data"
    },
    {
     "data": {
      "image/png": "[encoded data removed]",
      "text/plain": [
       "<Figure size 432x288 with 1 Axes>"
      ]
     },
     "metadata": {
      "needs_background": "light"
     },
     "output_type": "display_data"
    },
    {
     "data": {
      "image/png": "[encoded data removed]",
      "text/plain": [
       "<Figure size 432x288 with 1 Axes>"
      ]
     },
     "metadata": {
      "needs_background": "light"
     },
     "output_type": "display_data"
    },
    {
     "data": {
      "image/png": "[encoded data removed]",
      "text/plain": [
       "<Figure size 432x288 with 1 Axes>"
      ]
     },
     "metadata": {
      "needs_background": "light"
     },
     "output_type": "display_data"
    },
    {
     "data": {
      "image/png": "[encoded data removed]",
      "text/plain": [
       "<Figure size 432x288 with 1 Axes>"
      ]
     },
     "metadata": {
      "needs_background": "light"
     },
     "output_type": "display_data"
    },
    {
     "data": {
      "image/png": "[encoded data removed]",
      "text/plain": [
       "<Figure size 432x288 with 1 Axes>"
      ]
     },
     "metadata": {
      "needs_background": "light"
     },
     "output_type": "display_data"
    },
    {
     "data": {
      "image/png": "[encoded data removed]",
      "text/plain": [
       "<Figure size 432x288 with 1 Axes>"
      ]
     },
     "metadata": {
      "needs_background": "light"
     },
     "output_type": "display_data"
    },
    {
     "data": {
      "image/png": "[encoded data removed]",
      "text/plain": [
       "<Figure size 432x288 with 1 Axes>"
      ]
     },
     "metadata": {
      "needs_background": "light"
     },
     "output_type": "display_data"
    },
    {
     "data": {
      "image/png": "[encoded data removed]",
      "text/plain": [
       "<Figure size 432x288 with 1 Axes>"
      ]
     },
     "metadata": {
      "needs_background": "light"
     },
     "output_type": "display_data"
    },
    {
     "data": {
      "image/png": "[encoded data removed]",
      "text/plain": [
       "<Figure size 432x288 with 1 Axes>"
      ]
     },
     "metadata": {
      "needs_background": "light"
     },
     "output_type": "display_data"
    },
    {
     "data": {
      "image/png": "[encoded data removed]",
      "text/plain": [
       "<Figure size 432x288 with 1 Axes>"
      ]
     },
     "metadata": {
      "needs_background": "light"
     },
     "output_type": "display_data"
    },
    {
     "data": {
      "image/png": "[encoded data removed]",
      "text/plain": [
       "<Figure size 432x288 with 1 Axes>"
      ]
     },
     "metadata": {
      "needs_background": "light"
     },
     "output_type": "display_data"
    },
    {
     "data": {
      "image/png": "[encoded data removed]",
      "text/plain": [
       "<Figure size 432x288 with 1 Axes>"
      ]
     },
     "metadata": {
      "needs_background": "light"
     },
     "output_type": "display_data"
    },
    {
     "data": {
      "image/png": "[encoded data removed]",
      "text/plain": [
       "<Figure size 432x288 with 1 Axes>"
      ]
     },
     "metadata": {
      "needs_background": "light"
     },
     "output_type": "display_data"
    },
    {
     "data": {
      "image/png": "[encoded data removed]",
      "text/plain": [
       "<Figure size 432x288 with 1 Axes>"
      ]
     },
     "metadata": {
      "needs_background": "light"
     },
     "output_type": "display_data"
    },
    {
     "data": {
      "image/png": "[encoded data removed]",
      "text/plain": [
       "<Figure size 432x288 with 1 Axes>"
      ]
     },
     "metadata": {
      "needs_background": "light"
     },
     "output_type": "display_data"
    },
    {
     "data": {
      "image/png": "[encoded data removed]",
      "text/plain": [
       "<Figure size 432x288 with 1 Axes>"
      ]
     },
     "metadata": {
      "needs_background": "light"
     },
     "output_type": "display_data"
    },
    {
     "data": {
      "image/png": "[encoded data removed]",
      "text/plain": [
       "<Figure size 432x288 with 1 Axes>"
      ]
     },
     "metadata": {
      "needs_background": "light"
     },
     "output_type": "display_data"
    },
    {
     "data": {
      "image/png": "[encoded data removed]",
      "text/plain": [
       "<Figure size 432x288 with 1 Axes>"
      ]
     },
     "metadata": {
      "needs_background": "light"
     },
     "output_type": "display_data"
    },
    {
     "data": {
      "image/png": "[encoded data removed]",
      "text/plain": [
       "<Figure size 432x288 with 1 Axes>"
      ]
     },
     "metadata": {
      "needs_background": "light"
     },
     "output_type": "display_data"
    },
    {
     "data": {
      "image/png": "[encoded data removed]",
      "text/plain": [
       "<Figure size 432x288 with 1 Axes>"
      ]
     },
     "metadata": {
      "needs_background": "light"
     },
     "output_type": "display_data"
    },
    {
     "name": "stdout",
     "output_type": "stream",
     "text": [
      "Total Reward for episode 0 is 1\n"
     ]
    }
   ],
   "source": [
    "env = WebGame()\n",
    "\n",
    "for episode in range(1):\n",
    "    obs = env.reset()\n",
    "    terminated = False\n",
    "    total_reward = 0\n",
    "#     obs, reward, terminated, truncated, info =  env.step(3)\n",
    "#     obs, reward, terminated, truncated, info =  env.step(1)\n",
    "    while not terminated:\n",
    "        action = model.predict(obs[0].reshape((1, 100, 100)))\n",
    "        features = get_intermediate_output(model.policy.features_extractor.cnn, torch.tensor(obs[0].reshape((1, 1, 100, 100)), dtype=torch.float32), 2)\n",
    "        visualize_important_feature(features)\n",
    "        features = get_intermediate_output(model.policy.features_extractor.cnn, torch.tensor(obs[0].reshape((1, 1, 100, 100)), dtype=torch.float32), 5)\n",
    "        visualize_important_feature(features)\n",
    "        features = get_intermediate_output(model.policy.features_extractor.cnn, torch.tensor(obs[0].reshape((1, 1, 100, 100)), dtype=torch.float32), 8)\n",
    "        visualize_important_feature(features)\n",
    "        features = get_intermediate_output(model.policy.features_extractor.cnn, torch.tensor(obs[0].reshape((1, 1, 100, 100)), dtype=torch.float32), 11)\n",
    "        visualize_important_feature(features)\n",
    "        # print(action)\n",
    "        obs, reward, terminated, truncated, info =  env.step(int(action[0]))\n",
    "        total_reward  += reward\n",
    "#         if reward != 0:\n",
    "#             print(terminated, env.get_score(), reward)\n",
    "    print('Total Reward for episode {} is {}'.format(episode, total_reward))   "
   ]
  },
  {
   "cell_type": "code",
   "execution_count": null,
   "id": "acquired-image",
   "metadata": {},
   "outputs": [],
   "source": [
    "print(\"Observation Space:\", env.observation_space)\n",
    "print(\"Observation Shape:\", obs[0].shape)\n",
    "try:\n",
    "    action = model.predict(obs[0].reshape((1, 100, 100)))\n",
    "except ValueError as e:\n",
    "    print(\"An error occurred:\", e)\n"
   ]
  },
  {
   "cell_type": "code",
   "execution_count": 3,
   "id": "olympic-boston",
   "metadata": {},
   "outputs": [],
   "source": [
    "# Import os for file path management\n",
    "import os \n",
    "# Import Base Callback for saving models\n",
    "from stable_baselines3.common.callbacks import BaseCallback\n",
    "# Check Environment    \n",
    "from stable_baselines3.common import env_checker"
   ]
  },
  {
   "cell_type": "code",
   "execution_count": 8,
   "id": "unexpected-event",
   "metadata": {},
   "outputs": [],
   "source": [
    "env_checker.check_env(env)"
   ]
  },
  {
   "cell_type": "code",
   "execution_count": 4,
   "id": "international-blackjack",
   "metadata": {},
   "outputs": [],
   "source": [
    "class TrainAndLoggingCallback(BaseCallback):\n",
    "\n",
    "    def __init__(self, check_freq, save_path, verbose=1):\n",
    "        super(TrainAndLoggingCallback, self).__init__(verbose)\n",
    "        self.check_freq = check_freq\n",
    "        self.save_path = save_path\n",
    "\n",
    "    def _init_callback(self):\n",
    "        if self.save_path is not None:\n",
    "            os.makedirs(self.save_path, exist_ok=True)\n",
    "\n",
    "    def _on_step(self):\n",
    "        if self.n_calls % self.check_freq == 0:\n",
    "            model_path = os.path.join(self.save_path, 'best_model_{}'.format(self.n_calls))\n",
    "            self.model.save(model_path)\n",
    "\n",
    "        return True"
   ]
  },
  {
   "cell_type": "code",
   "execution_count": 10,
   "id": "settled-bruce",
   "metadata": {},
   "outputs": [],
   "source": [
    "CHECKPOINT_DIR = './train/post41/post2' # post40/post2/post1/post/post2/post/post/post1/post1/post/post1/post1_2/post2_3' # post37/post/post/post/post/post/post/post/post/post/post/post1_2/post2_2/post_2/post2_2/post_2/post_2/post_4'\n",
    "LOG_DIR = './logs/post41'"
   ]
  },
  {
   "cell_type": "code",
   "execution_count": 11,
   "id": "immune-index",
   "metadata": {},
   "outputs": [],
   "source": [
    "callback = TrainAndLoggingCallback(check_freq=5000, save_path=CHECKPOINT_DIR)"
   ]
  },
  {
   "cell_type": "code",
   "execution_count": 7,
   "id": "likely-technology",
   "metadata": {},
   "outputs": [],
   "source": [
    "from stable_baselines3 import PPO, DQN"
   ]
  },
  {
   "cell_type": "code",
   "execution_count": 8,
   "id": "centered-trial",
   "metadata": {},
   "outputs": [],
   "source": [
    "env = WebGame()"
   ]
  },
  {
   "cell_type": "code",
   "execution_count": 11,
   "id": "binary-court",
   "metadata": {},
   "outputs": [
    {
     "data": {
      "text/plain": [
       "<matplotlib.image.AxesImage at 0x7f97e64126d0>"
      ]
     },
     "execution_count": 11,
     "metadata": {},
     "output_type": "execute_result"
    },
    {
     "data": {
      "image/png": "[encoded data removed]",
      "text/plain": [
       "<Figure size 432x288 with 1 Axes>"
      ]
     },
     "metadata": {
      "needs_background": "light"
     },
     "output_type": "display_data"
    }
   ],
   "source": [
    "plt.imshow(cv2.cvtColor(env.get_observation()[0], cv2.COLOR_BGR2RGB))"
   ]
  },
  {
   "cell_type": "code",
   "execution_count": 12,
   "id": "nervous-pointer",
   "metadata": {},
   "outputs": [
    {
     "name": "stdout",
     "output_type": "stream",
     "text": [
      "Wrapping the env with a `Monitor` wrapper\n",
      "Wrapping the env in a DummyVecEnv.\n"
     ]
    }
   ],
   "source": [
    "model = PPO.load('./train/post41/best_model_10000.zip', env)"
   ]
  },
  {
   "cell_type": "code",
   "execution_count": 21,
   "id": "incorporate-hearing",
   "metadata": {},
   "outputs": [],
   "source": [
    "from torchvision.models import mobilenet_v3_large\n",
    "\n",
    "model = mobilenet_v3_large()"
   ]
  },
  {
   "cell_type": "code",
   "execution_count": 11,
   "id": "reliable-soldier",
   "metadata": {},
   "outputs": [
    {
     "data": {
      "text/plain": [
       "Sequential(\n",
       "  (0): Conv2d(1, 64, kernel_size=(8, 8), stride=(4, 4))\n",
       "  (1): BatchNorm2d(64, eps=1e-05, momentum=0.1, affine=True, track_running_stats=True)\n",
       "  (2): ReLU()\n",
       "  (3): Conv2d(64, 128, kernel_size=(4, 4), stride=(2, 2))\n",
       "  (4): BatchNorm2d(128, eps=1e-05, momentum=0.1, affine=True, track_running_stats=True)\n",
       "  (5): ReLU()\n",
       "  (6): Conv2d(128, 128, kernel_size=(3, 3), stride=(1, 1))\n",
       "  (7): BatchNorm2d(128, eps=1e-05, momentum=0.1, affine=True, track_running_stats=True)\n",
       "  (8): ReLU()\n",
       "  (9): Conv2d(128, 256, kernel_size=(3, 3), stride=(1, 1))\n",
       "  (10): BatchNorm2d(256, eps=1e-05, momentum=0.1, affine=True, track_running_stats=True)\n",
       "  (11): ReLU()\n",
       "  (12): Flatten(start_dim=1, end_dim=-1)\n",
       ")"
      ]
     },
     "execution_count": 11,
     "metadata": {},
     "output_type": "execute_result"
    }
   ],
   "source": [
    "model.policy.pi_features_extractor.cnn"
   ]
  },
  {
   "cell_type": "code",
   "execution_count": 16,
   "id": "developed-frontier",
   "metadata": {},
   "outputs": [
    {
     "data": {
      "image/png": "[encoded data removed]",
      "text/plain": [
       "<Figure size 432x288 with 1 Axes>"
      ]
     },
     "metadata": {
      "needs_background": "light"
     },
     "output_type": "display_data"
    }
   ],
   "source": [
    "import torch\n",
    "import matplotlib.pyplot as plt\n",
    "import numpy as np\n",
    "\n",
    "# Function to capture intermediate output\n",
    "def get_intermediate_output(model, input_data, layer_num):\n",
    "    temp_model = torch.nn.Sequential(*(list(model.children())[:layer_num+1]))\n",
    "    with torch.no_grad():\n",
    "        intermediate_output = temp_model(input_data)\n",
    "    return intermediate_output\n",
    "\n",
    "# Function to visualize the most \"important\" feature map\n",
    "def visualize_important_feature(features):\n",
    "    feature_maps = features.squeeze().cpu().numpy()\n",
    "    # Compute sum or mean along x, y dimensions for each feature map\n",
    "    importance = np.sum(np.abs(feature_maps), axis=(1, 2))\n",
    "    \n",
    "    # Find the index of the feature map with the greatest sum or mean\n",
    "    most_important_idx = np.argmax(importance)\n",
    "    \n",
    "    plt.imshow(feature_maps[most_important_idx], cmap='viridis')\n",
    "    plt.axis('off')\n",
    "    plt.show()\n",
    "\n",
    "# Assume you have loaded or trained a Stable Baselines 3 PPO model\n",
    "# model = PPO.load(\"your_model_path\")\n",
    "# Also assume 'obs' is a single observation from your environment, shaped correctly\n",
    "\n",
    "obs = env.reset()\n",
    "\n",
    "# Get intermediate features\n",
    "layer_num = 11  # Replace with the layer number you're interested in\n",
    "features = get_intermediate_output(model.policy.features_extractor.cnn, torch.tensor(obs[0][np.newaxis, :, :, :], dtype=torch.float32), layer_num)\n",
    "\n",
    "# Visualize the most \"important\" feature map\n",
    "visualize_important_feature(features)\n"
   ]
  },
  {
   "cell_type": "code",
   "execution_count": 13,
   "id": "bored-flush",
   "metadata": {},
   "outputs": [
    {
     "data": {
      "text/plain": [
       "(array([[[238, 238, 238, ..., 238, 238, 238],\n",
       "         [ 96,  96,  96, ...,  96,  96,  96],\n",
       "         [ 96,  96,  96, ...,  96,  96,  96],\n",
       "         ...,\n",
       "         [113, 113, 113, ..., 113, 113, 113],\n",
       "         [113, 113, 113, ..., 113, 113, 113],\n",
       "         [113, 113, 113, ..., 113, 113, 113]]], dtype=uint8),\n",
       " {})"
      ]
     },
     "execution_count": 13,
     "metadata": {},
     "output_type": "execute_result"
    }
   ],
   "source": [
    "env.reset()"
   ]
  },
  {
   "cell_type": "code",
   "execution_count": 26,
   "id": "personalized-lounge",
   "metadata": {},
   "outputs": [],
   "source": [
    "import torch as th\n",
    "from gymnasium import spaces\n",
    "from stable_baselines3.common.torch_layers import BaseFeaturesExtractor\n",
    "\n",
    "class CustomMobileNet(BaseFeaturesExtractor):\n",
    "    \n",
    "    def __init__(self, observation_space: spaces.Box, features_dim: int = 512):\n",
    "        super().__init__(observation_space, features_dim)\n",
    "        n_input_channels = observation_space.shape[0]\n",
    "        \n",
    "        self.model = mobilenet_v3_large()\n",
    "        \n",
    "        self.model.features[0][0] = th.nn.Conv2d(n_input_channels, 16, kernel_size=(3, 3), stride=(2, 2), padding=(1, 1), bias=False)\n",
    "\n",
    "        self.model.classifier[3] = th.nn.Linear(self.model.classifier[3].in_features, features_dim, bias=True)\n",
    "\n",
    "    def forward(self, observations: th.Tensor) -> th.Tensor:\n",
    "        return self.model(observations)"
   ]
  },
  {
   "cell_type": "code",
   "execution_count": 44,
   "id": "honey-bonus",
   "metadata": {},
   "outputs": [
    {
     "name": "stdout",
     "output_type": "stream",
     "text": [
      "Using cpu device\n",
      "Wrapping the env with a `Monitor` wrapper\n",
      "Wrapping the env in a DummyVecEnv.\n"
     ]
    }
   ],
   "source": [
    "model = PPO('CnnPolicy', env, tensorboard_log=LOG_DIR, verbose=1, learning_rate=0.0003, n_steps=128, ent_coef=0.01, gamma=0.97, policy_kwargs=dict(features_extractor_class=CustomNatureCNN))\n",
    "# model = DQN('CnnPolicy', env, tensorboard_log=LOG_DIR, verbose=1, buffer_size=10000)"
   ]
  },
  {
   "cell_type": "code",
   "execution_count": null,
   "id": "jewish-reminder",
   "metadata": {},
   "outputs": [
    {
     "name": "stdout",
     "output_type": "stream",
     "text": [
      "Logging to ./logs/post41/PPO_4\n",
      "---------------------------------\n",
      "| rollout/           |          |\n",
      "|    ep_len_mean     | 15.6     |\n",
      "|    ep_rew_mean     | 0        |\n",
      "| time/              |          |\n",
      "|    fps             | 3        |\n",
      "|    iterations      | 1        |\n",
      "|    time_elapsed    | 36       |\n",
      "|    total_timesteps | 128      |\n",
      "---------------------------------\n",
      "----------------------------------------\n",
      "| rollout/                |            |\n",
      "|    ep_len_mean          | 14.6       |\n",
      "|    ep_rew_mean          | 0          |\n",
      "| time/                   |            |\n",
      "|    fps                  | 2          |\n",
      "|    iterations           | 2          |\n",
      "|    time_elapsed         | 101        |\n",
      "|    total_timesteps      | 256        |\n",
      "| train/                  |            |\n",
      "|    approx_kl            | 0.04693195 |\n",
      "|    clip_fraction        | 0.62       |\n",
      "|    clip_range           | 0.2        |\n",
      "|    entropy_loss         | -1.05      |\n",
      "|    explained_variance   | -0.678     |\n",
      "|    learning_rate        | 0.0003     |\n",
      "|    loss                 | -0.0746    |\n",
      "|    n_updates            | 790        |\n",
      "|    policy_gradient_loss | 0.00535    |\n",
      "|    value_loss           | 0.00218    |\n",
      "----------------------------------------\n",
      "----------------------------------------\n",
      "| rollout/                |            |\n",
      "|    ep_len_mean          | 15.2       |\n",
      "|    ep_rew_mean          | 0          |\n",
      "| time/                   |            |\n",
      "|    fps                  | 2          |\n",
      "|    iterations           | 3          |\n",
      "|    time_elapsed         | 163        |\n",
      "|    total_timesteps      | 384        |\n",
      "| train/                  |            |\n",
      "|    approx_kl            | 0.04616553 |\n",
      "|    clip_fraction        | 0.285      |\n",
      "|    clip_range           | 0.2        |\n",
      "|    entropy_loss         | -0.798     |\n",
      "|    explained_variance   | -18.8      |\n",
      "|    learning_rate        | 0.0003     |\n",
      "|    loss                 | -0.0905    |\n",
      "|    n_updates            | 800        |\n",
      "|    policy_gradient_loss | -0.0393    |\n",
      "|    value_loss           | 0.0013     |\n",
      "----------------------------------------\n",
      "----------------------------------------\n",
      "| rollout/                |            |\n",
      "|    ep_len_mean          | 15.7       |\n",
      "|    ep_rew_mean          | 0          |\n",
      "| time/                   |            |\n",
      "|    fps                  | 2          |\n",
      "|    iterations           | 4          |\n",
      "|    time_elapsed         | 222        |\n",
      "|    total_timesteps      | 512        |\n",
      "| train/                  |            |\n",
      "|    approx_kl            | 0.06719121 |\n",
      "|    clip_fraction        | 0.28       |\n",
      "|    clip_range           | 0.2        |\n",
      "|    entropy_loss         | -0.857     |\n",
      "|    explained_variance   | -18.6      |\n",
      "|    learning_rate        | 0.0003     |\n",
      "|    loss                 | -0.076     |\n",
      "|    n_updates            | 810        |\n",
      "|    policy_gradient_loss | -0.0374    |\n",
      "|    value_loss           | 0.00123    |\n",
      "----------------------------------------\n",
      "-----------------------------------------\n",
      "| rollout/                |             |\n",
      "|    ep_len_mean          | 15.3        |\n",
      "|    ep_rew_mean          | 0           |\n",
      "| time/                   |             |\n",
      "|    fps                  | 2           |\n",
      "|    iterations           | 5           |\n",
      "|    time_elapsed         | 284         |\n",
      "|    total_timesteps      | 640         |\n",
      "| train/                  |             |\n",
      "|    approx_kl            | 0.062087066 |\n",
      "|    clip_fraction        | 0.352       |\n",
      "|    clip_range           | 0.2         |\n",
      "|    entropy_loss         | -0.904      |\n",
      "|    explained_variance   | -57.2       |\n",
      "|    learning_rate        | 0.0003      |\n",
      "|    loss                 | -0.11       |\n",
      "|    n_updates            | 820         |\n",
      "|    policy_gradient_loss | -0.0529     |\n",
      "|    value_loss           | 0.000833    |\n",
      "-----------------------------------------\n",
      "----------------------------------------\n",
      "| rollout/                |            |\n",
      "|    ep_len_mean          | 15.3       |\n",
      "|    ep_rew_mean          | 0          |\n",
      "| time/                   |            |\n",
      "|    fps                  | 2          |\n",
      "|    iterations           | 6          |\n",
      "|    time_elapsed         | 346        |\n",
      "|    total_timesteps      | 768        |\n",
      "| train/                  |            |\n",
      "|    approx_kl            | 0.09115896 |\n",
      "|    clip_fraction        | 0.502      |\n",
      "|    clip_range           | 0.2        |\n",
      "|    entropy_loss         | -0.859     |\n",
      "|    explained_variance   | -1.84      |\n",
      "|    learning_rate        | 0.0003     |\n",
      "|    loss                 | -0.0615    |\n",
      "|    n_updates            | 830        |\n",
      "|    policy_gradient_loss | -0.0187    |\n",
      "|    value_loss           | 0.000816   |\n",
      "----------------------------------------\n",
      "----------------------------------------\n",
      "| rollout/                |            |\n",
      "|    ep_len_mean          | 15.2       |\n",
      "|    ep_rew_mean          | 0          |\n",
      "| time/                   |            |\n",
      "|    fps                  | 2          |\n",
      "|    iterations           | 7          |\n",
      "|    time_elapsed         | 408        |\n",
      "|    total_timesteps      | 896        |\n",
      "| train/                  |            |\n",
      "|    approx_kl            | 0.03934472 |\n",
      "|    clip_fraction        | 0.499      |\n",
      "|    clip_range           | 0.2        |\n",
      "|    entropy_loss         | -0.971     |\n",
      "|    explained_variance   | -14.2      |\n",
      "|    learning_rate        | 0.0003     |\n",
      "|    loss                 | -0.0739    |\n",
      "|    n_updates            | 840        |\n",
      "|    policy_gradient_loss | -0.0306    |\n",
      "|    value_loss           | 0.00056    |\n",
      "----------------------------------------\n",
      "-----------------------------------------\n",
      "| rollout/                |             |\n",
      "|    ep_len_mean          | 14.9        |\n",
      "|    ep_rew_mean          | 0           |\n",
      "| time/                   |             |\n",
      "|    fps                  | 2           |\n",
      "|    iterations           | 8           |\n",
      "|    time_elapsed         | 470         |\n",
      "|    total_timesteps      | 1024        |\n",
      "| train/                  |             |\n",
      "|    approx_kl            | 0.030499376 |\n",
      "|    clip_fraction        | 0.338       |\n",
      "|    clip_range           | 0.2         |\n",
      "|    entropy_loss         | -0.986      |\n",
      "|    explained_variance   | -14.2       |\n",
      "|    learning_rate        | 0.0003      |\n",
      "|    loss                 | -0.0947     |\n",
      "|    n_updates            | 850         |\n",
      "|    policy_gradient_loss | -0.0441     |\n",
      "|    value_loss           | 0.000502    |\n",
      "-----------------------------------------\n",
      "-----------------------------------------\n",
      "| rollout/                |             |\n",
      "|    ep_len_mean          | 15          |\n",
      "|    ep_rew_mean          | 0           |\n",
      "| time/                   |             |\n",
      "|    fps                  | 2           |\n",
      "|    iterations           | 9           |\n",
      "|    time_elapsed         | 531         |\n",
      "|    total_timesteps      | 1152        |\n",
      "| train/                  |             |\n",
      "|    approx_kl            | 0.057078727 |\n",
      "|    clip_fraction        | 0.391       |\n",
      "|    clip_range           | 0.2         |\n",
      "|    entropy_loss         | -0.93       |\n",
      "|    explained_variance   | -17.3       |\n",
      "|    learning_rate        | 0.0003      |\n",
      "|    loss                 | -0.115      |\n",
      "|    n_updates            | 860         |\n",
      "|    policy_gradient_loss | -0.0669     |\n",
      "|    value_loss           | 0.000731    |\n",
      "-----------------------------------------\n",
      "----------------------------------------\n",
      "| rollout/                |            |\n",
      "|    ep_len_mean          | 15.6       |\n",
      "|    ep_rew_mean          | 0          |\n",
      "| time/                   |            |\n",
      "|    fps                  | 2          |\n",
      "|    iterations           | 10         |\n",
      "|    time_elapsed         | 588        |\n",
      "|    total_timesteps      | 1280       |\n",
      "| train/                  |            |\n",
      "|    approx_kl            | 0.07867536 |\n",
      "|    clip_fraction        | 0.552      |\n",
      "|    clip_range           | 0.2        |\n",
      "|    entropy_loss         | -1.02      |\n",
      "|    explained_variance   | -34.8      |\n",
      "|    learning_rate        | 0.0003     |\n",
      "|    loss                 | -0.117     |\n",
      "|    n_updates            | 870        |\n",
      "|    policy_gradient_loss | -0.0665    |\n",
      "|    value_loss           | 0.000628   |\n",
      "----------------------------------------\n",
      "----------------------------------------\n",
      "| rollout/                |            |\n",
      "|    ep_len_mean          | 15.8       |\n",
      "|    ep_rew_mean          | 0          |\n",
      "| time/                   |            |\n",
      "|    fps                  | 2          |\n",
      "|    iterations           | 11         |\n",
      "|    time_elapsed         | 649        |\n",
      "|    total_timesteps      | 1408       |\n",
      "| train/                  |            |\n",
      "|    approx_kl            | 0.11628972 |\n",
      "|    clip_fraction        | 0.592      |\n",
      "|    clip_range           | 0.2        |\n",
      "|    entropy_loss         | -1.06      |\n",
      "|    explained_variance   | -6.65      |\n",
      "|    learning_rate        | 0.0003     |\n",
      "|    loss                 | -0.149     |\n",
      "|    n_updates            | 880        |\n",
      "|    policy_gradient_loss | -0.0882    |\n",
      "|    value_loss           | 0.00084    |\n",
      "----------------------------------------\n"
     ]
    },
    {
     "name": "stdout",
     "output_type": "stream",
     "text": [
      "-----------------------------------------\n",
      "| rollout/                |             |\n",
      "|    ep_len_mean          | 15.6        |\n",
      "|    ep_rew_mean          | 0           |\n",
      "| time/                   |             |\n",
      "|    fps                  | 2           |\n",
      "|    iterations           | 12          |\n",
      "|    time_elapsed         | 715         |\n",
      "|    total_timesteps      | 1536        |\n",
      "| train/                  |             |\n",
      "|    approx_kl            | 0.045430664 |\n",
      "|    clip_fraction        | 0.595       |\n",
      "|    clip_range           | 0.2         |\n",
      "|    entropy_loss         | -0.93       |\n",
      "|    explained_variance   | -3.5        |\n",
      "|    learning_rate        | 0.0003      |\n",
      "|    loss                 | -0.109      |\n",
      "|    n_updates            | 890         |\n",
      "|    policy_gradient_loss | -0.0404     |\n",
      "|    value_loss           | 0.000755    |\n",
      "-----------------------------------------\n",
      "----------------------------------------\n",
      "| rollout/                |            |\n",
      "|    ep_len_mean          | 15.5       |\n",
      "|    ep_rew_mean          | 0          |\n",
      "| time/                   |            |\n",
      "|    fps                  | 2          |\n",
      "|    iterations           | 13         |\n",
      "|    time_elapsed         | 778        |\n",
      "|    total_timesteps      | 1664       |\n",
      "| train/                  |            |\n",
      "|    approx_kl            | 0.04964076 |\n",
      "|    clip_fraction        | 0.391      |\n",
      "|    clip_range           | 0.2        |\n",
      "|    entropy_loss         | -0.884     |\n",
      "|    explained_variance   | -3.63      |\n",
      "|    learning_rate        | 0.0003     |\n",
      "|    loss                 | -0.0908    |\n",
      "|    n_updates            | 900        |\n",
      "|    policy_gradient_loss | -0.0499    |\n",
      "|    value_loss           | 0.000492   |\n",
      "----------------------------------------\n",
      "-----------------------------------------\n",
      "| rollout/                |             |\n",
      "|    ep_len_mean          | 15.8        |\n",
      "|    ep_rew_mean          | 0           |\n",
      "| time/                   |             |\n",
      "|    fps                  | 2           |\n",
      "|    iterations           | 14          |\n",
      "|    time_elapsed         | 837         |\n",
      "|    total_timesteps      | 1792        |\n",
      "| train/                  |             |\n",
      "|    approx_kl            | 0.045195617 |\n",
      "|    clip_fraction        | 0.48        |\n",
      "|    clip_range           | 0.2         |\n",
      "|    entropy_loss         | -0.973      |\n",
      "|    explained_variance   | -7.82       |\n",
      "|    learning_rate        | 0.0003      |\n",
      "|    loss                 | -0.105      |\n",
      "|    n_updates            | 910         |\n",
      "|    policy_gradient_loss | -0.0538     |\n",
      "|    value_loss           | 0.00035     |\n",
      "-----------------------------------------\n",
      "-----------------------------------------\n",
      "| rollout/                |             |\n",
      "|    ep_len_mean          | 15.9        |\n",
      "|    ep_rew_mean          | 0           |\n",
      "| time/                   |             |\n",
      "|    fps                  | 2           |\n",
      "|    iterations           | 15          |\n",
      "|    time_elapsed         | 898         |\n",
      "|    total_timesteps      | 1920        |\n",
      "| train/                  |             |\n",
      "|    approx_kl            | 0.051471855 |\n",
      "|    clip_fraction        | 0.42        |\n",
      "|    clip_range           | 0.2         |\n",
      "|    entropy_loss         | -1.12       |\n",
      "|    explained_variance   | -3.15       |\n",
      "|    learning_rate        | 0.0003      |\n",
      "|    loss                 | -0.116      |\n",
      "|    n_updates            | 920         |\n",
      "|    policy_gradient_loss | -0.0533     |\n",
      "|    value_loss           | 0.000297    |\n",
      "-----------------------------------------\n",
      "----------------------------------------\n",
      "| rollout/                |            |\n",
      "|    ep_len_mean          | 16         |\n",
      "|    ep_rew_mean          | 0          |\n",
      "| time/                   |            |\n",
      "|    fps                  | 2          |\n",
      "|    iterations           | 16         |\n",
      "|    time_elapsed         | 957        |\n",
      "|    total_timesteps      | 2048       |\n",
      "| train/                  |            |\n",
      "|    approx_kl            | 0.05219668 |\n",
      "|    clip_fraction        | 0.389      |\n",
      "|    clip_range           | 0.2        |\n",
      "|    entropy_loss         | -1.05      |\n",
      "|    explained_variance   | -19.1      |\n",
      "|    learning_rate        | 0.0003     |\n",
      "|    loss                 | -0.12      |\n",
      "|    n_updates            | 930        |\n",
      "|    policy_gradient_loss | -0.072     |\n",
      "|    value_loss           | 0.000332   |\n",
      "----------------------------------------\n",
      "-----------------------------------------\n",
      "| rollout/                |             |\n",
      "|    ep_len_mean          | 15.9        |\n",
      "|    ep_rew_mean          | 0           |\n",
      "| time/                   |             |\n",
      "|    fps                  | 2           |\n",
      "|    iterations           | 17          |\n",
      "|    time_elapsed         | 1020        |\n",
      "|    total_timesteps      | 2176        |\n",
      "| train/                  |             |\n",
      "|    approx_kl            | 0.044040717 |\n",
      "|    clip_fraction        | 0.503       |\n",
      "|    clip_range           | 0.2         |\n",
      "|    entropy_loss         | -1.13       |\n",
      "|    explained_variance   | -27.9       |\n",
      "|    learning_rate        | 0.0003      |\n",
      "|    loss                 | -0.151      |\n",
      "|    n_updates            | 940         |\n",
      "|    policy_gradient_loss | -0.0558     |\n",
      "|    value_loss           | 0.000279    |\n",
      "-----------------------------------------\n",
      "-----------------------------------------\n",
      "| rollout/                |             |\n",
      "|    ep_len_mean          | 16          |\n",
      "|    ep_rew_mean          | 0           |\n",
      "| time/                   |             |\n",
      "|    fps                  | 2           |\n",
      "|    iterations           | 18          |\n",
      "|    time_elapsed         | 1080        |\n",
      "|    total_timesteps      | 2304        |\n",
      "| train/                  |             |\n",
      "|    approx_kl            | 0.026274346 |\n",
      "|    clip_fraction        | 0.701       |\n",
      "|    clip_range           | 0.2         |\n",
      "|    entropy_loss         | -1.04       |\n",
      "|    explained_variance   | -1.28       |\n",
      "|    learning_rate        | 0.0003      |\n",
      "|    loss                 | -0.0717     |\n",
      "|    n_updates            | 950         |\n",
      "|    policy_gradient_loss | -0.0166     |\n",
      "|    value_loss           | 0.000428    |\n",
      "-----------------------------------------\n",
      "----------------------------------------\n",
      "| rollout/                |            |\n",
      "|    ep_len_mean          | 16.4       |\n",
      "|    ep_rew_mean          | 0          |\n",
      "| time/                   |            |\n",
      "|    fps                  | 2          |\n",
      "|    iterations           | 19         |\n",
      "|    time_elapsed         | 1137       |\n",
      "|    total_timesteps      | 2432       |\n",
      "| train/                  |            |\n",
      "|    approx_kl            | 0.06571965 |\n",
      "|    clip_fraction        | 0.739      |\n",
      "|    clip_range           | 0.2        |\n",
      "|    entropy_loss         | -0.941     |\n",
      "|    explained_variance   | -1.34      |\n",
      "|    learning_rate        | 0.0003     |\n",
      "|    loss                 | -0.0887    |\n",
      "|    n_updates            | 960        |\n",
      "|    policy_gradient_loss | 0.00223    |\n",
      "|    value_loss           | 0.000435   |\n",
      "----------------------------------------\n",
      "-----------------------------------------\n",
      "| rollout/                |             |\n",
      "|    ep_len_mean          | 16.8        |\n",
      "|    ep_rew_mean          | 0           |\n",
      "| time/                   |             |\n",
      "|    fps                  | 2           |\n",
      "|    iterations           | 20          |\n",
      "|    time_elapsed         | 1197        |\n",
      "|    total_timesteps      | 2560        |\n",
      "| train/                  |             |\n",
      "|    approx_kl            | 0.118733235 |\n",
      "|    clip_fraction        | 0.641       |\n",
      "|    clip_range           | 0.2         |\n",
      "|    entropy_loss         | -1.21       |\n",
      "|    explained_variance   | -0.417      |\n",
      "|    learning_rate        | 0.0003      |\n",
      "|    loss                 | -0.148      |\n",
      "|    n_updates            | 970         |\n",
      "|    policy_gradient_loss | -0.0454     |\n",
      "|    value_loss           | 0.000632    |\n",
      "-----------------------------------------\n",
      "----------------------------------------\n",
      "| rollout/                |            |\n",
      "|    ep_len_mean          | 16.8       |\n",
      "|    ep_rew_mean          | 0.01       |\n",
      "| time/                   |            |\n",
      "|    fps                  | 2          |\n",
      "|    iterations           | 21         |\n",
      "|    time_elapsed         | 1262       |\n",
      "|    total_timesteps      | 2688       |\n",
      "| train/                  |            |\n",
      "|    approx_kl            | 0.12439251 |\n",
      "|    clip_fraction        | 0.769      |\n",
      "|    clip_range           | 0.2        |\n",
      "|    entropy_loss         | -1.16      |\n",
      "|    explained_variance   | -5.53      |\n",
      "|    learning_rate        | 0.0003     |\n",
      "|    loss                 | -0.146     |\n",
      "|    n_updates            | 980        |\n",
      "|    policy_gradient_loss | -0.047     |\n",
      "|    value_loss           | 0.000733   |\n",
      "----------------------------------------\n"
     ]
    },
    {
     "name": "stdout",
     "output_type": "stream",
     "text": [
      "----------------------------------------\n",
      "| rollout/                |            |\n",
      "|    ep_len_mean          | 16.8       |\n",
      "|    ep_rew_mean          | 0.01       |\n",
      "| time/                   |            |\n",
      "|    fps                  | 2          |\n",
      "|    iterations           | 22         |\n",
      "|    time_elapsed         | 1324       |\n",
      "|    total_timesteps      | 2816       |\n",
      "| train/                  |            |\n",
      "|    approx_kl            | 0.08251998 |\n",
      "|    clip_fraction        | 0.584      |\n",
      "|    clip_range           | 0.2        |\n",
      "|    entropy_loss         | -1.06      |\n",
      "|    explained_variance   | -0.00707   |\n",
      "|    learning_rate        | 0.0003     |\n",
      "|    loss                 | -0.105     |\n",
      "|    n_updates            | 990        |\n",
      "|    policy_gradient_loss | -0.0579    |\n",
      "|    value_loss           | 0.0265     |\n",
      "----------------------------------------\n",
      "----------------------------------------\n",
      "| rollout/                |            |\n",
      "|    ep_len_mean          | 16.4       |\n",
      "|    ep_rew_mean          | 0.01       |\n",
      "| time/                   |            |\n",
      "|    fps                  | 2          |\n",
      "|    iterations           | 23         |\n",
      "|    time_elapsed         | 1385       |\n",
      "|    total_timesteps      | 2944       |\n",
      "| train/                  |            |\n",
      "|    approx_kl            | 0.06941703 |\n",
      "|    clip_fraction        | 0.462      |\n",
      "|    clip_range           | 0.2        |\n",
      "|    entropy_loss         | -0.995     |\n",
      "|    explained_variance   | -1.63      |\n",
      "|    learning_rate        | 0.0003     |\n",
      "|    loss                 | -0.132     |\n",
      "|    n_updates            | 1000       |\n",
      "|    policy_gradient_loss | -0.0751    |\n",
      "|    value_loss           | 0.00731    |\n",
      "----------------------------------------\n",
      "----------------------------------------\n",
      "| rollout/                |            |\n",
      "|    ep_len_mean          | 16.8       |\n",
      "|    ep_rew_mean          | 0.01       |\n",
      "| time/                   |            |\n",
      "|    fps                  | 2          |\n",
      "|    iterations           | 24         |\n",
      "|    time_elapsed         | 1441       |\n",
      "|    total_timesteps      | 3072       |\n",
      "| train/                  |            |\n",
      "|    approx_kl            | 0.12486356 |\n",
      "|    clip_fraction        | 0.582      |\n",
      "|    clip_range           | 0.2        |\n",
      "|    entropy_loss         | -1.01      |\n",
      "|    explained_variance   | -8.84      |\n",
      "|    learning_rate        | 0.0003     |\n",
      "|    loss                 | -0.114     |\n",
      "|    n_updates            | 1010       |\n",
      "|    policy_gradient_loss | -0.066     |\n",
      "|    value_loss           | 0.00151    |\n",
      "----------------------------------------\n",
      "----------------------------------------\n",
      "| rollout/                |            |\n",
      "|    ep_len_mean          | 17.2       |\n",
      "|    ep_rew_mean          | 0.02       |\n",
      "| time/                   |            |\n",
      "|    fps                  | 2          |\n",
      "|    iterations           | 25         |\n",
      "|    time_elapsed         | 1500       |\n",
      "|    total_timesteps      | 3200       |\n",
      "| train/                  |            |\n",
      "|    approx_kl            | 0.13562982 |\n",
      "|    clip_fraction        | 0.748      |\n",
      "|    clip_range           | 0.2        |\n",
      "|    entropy_loss         | -1.16      |\n",
      "|    explained_variance   | -3.21      |\n",
      "|    learning_rate        | 0.0003     |\n",
      "|    loss                 | -0.156     |\n",
      "|    n_updates            | 1020       |\n",
      "|    policy_gradient_loss | -0.0654    |\n",
      "|    value_loss           | 0.00104    |\n",
      "----------------------------------------\n",
      "----------------------------------------\n",
      "| rollout/                |            |\n",
      "|    ep_len_mean          | 17.6       |\n",
      "|    ep_rew_mean          | 0.03       |\n",
      "| time/                   |            |\n",
      "|    fps                  | 2          |\n",
      "|    iterations           | 26         |\n",
      "|    time_elapsed         | 1561       |\n",
      "|    total_timesteps      | 3328       |\n",
      "| train/                  |            |\n",
      "|    approx_kl            | 0.17355472 |\n",
      "|    clip_fraction        | 0.68       |\n",
      "|    clip_range           | 0.2        |\n",
      "|    entropy_loss         | -1.18      |\n",
      "|    explained_variance   | 0.0145     |\n",
      "|    learning_rate        | 0.0003     |\n",
      "|    loss                 | -0.112     |\n",
      "|    n_updates            | 1030       |\n",
      "|    policy_gradient_loss | -0.0719    |\n",
      "|    value_loss           | 0.033      |\n",
      "----------------------------------------\n",
      "----------------------------------------\n",
      "| rollout/                |            |\n",
      "|    ep_len_mean          | 17.8       |\n",
      "|    ep_rew_mean          | 0.03       |\n",
      "| time/                   |            |\n",
      "|    fps                  | 2          |\n",
      "|    iterations           | 27         |\n",
      "|    time_elapsed         | 1620       |\n",
      "|    total_timesteps      | 3456       |\n",
      "| train/                  |            |\n",
      "|    approx_kl            | 0.10967761 |\n",
      "|    clip_fraction        | 0.635      |\n",
      "|    clip_range           | 0.2        |\n",
      "|    entropy_loss         | -1.19      |\n",
      "|    explained_variance   | -0.0614    |\n",
      "|    learning_rate        | 0.0003     |\n",
      "|    loss                 | -0.105     |\n",
      "|    n_updates            | 1040       |\n",
      "|    policy_gradient_loss | -0.0648    |\n",
      "|    value_loss           | 0.0286     |\n",
      "----------------------------------------\n",
      "----------------------------------------\n",
      "| rollout/                |            |\n",
      "|    ep_len_mean          | 17.8       |\n",
      "|    ep_rew_mean          | 0.03       |\n",
      "| time/                   |            |\n",
      "|    fps                  | 2          |\n",
      "|    iterations           | 28         |\n",
      "|    time_elapsed         | 1680       |\n",
      "|    total_timesteps      | 3584       |\n",
      "| train/                  |            |\n",
      "|    approx_kl            | 0.19710895 |\n",
      "|    clip_fraction        | 0.794      |\n",
      "|    clip_range           | 0.2        |\n",
      "|    entropy_loss         | -1.14      |\n",
      "|    explained_variance   | -1.51      |\n",
      "|    learning_rate        | 0.0003     |\n",
      "|    loss                 | -0.132     |\n",
      "|    n_updates            | 1050       |\n",
      "|    policy_gradient_loss | -0.0481    |\n",
      "|    value_loss           | 0.00677    |\n",
      "----------------------------------------\n",
      "----------------------------------------\n",
      "| rollout/                |            |\n",
      "|    ep_len_mean          | 17.7       |\n",
      "|    ep_rew_mean          | 0.03       |\n",
      "| time/                   |            |\n",
      "|    fps                  | 2          |\n",
      "|    iterations           | 29         |\n",
      "|    time_elapsed         | 1740       |\n",
      "|    total_timesteps      | 3712       |\n",
      "| train/                  |            |\n",
      "|    approx_kl            | 0.06527528 |\n",
      "|    clip_fraction        | 0.546      |\n",
      "|    clip_range           | 0.2        |\n",
      "|    entropy_loss         | -1.18      |\n",
      "|    explained_variance   | -16        |\n",
      "|    learning_rate        | 0.0003     |\n",
      "|    loss                 | -0.0947    |\n",
      "|    n_updates            | 1060       |\n",
      "|    policy_gradient_loss | 0.0164     |\n",
      "|    value_loss           | 0.00107    |\n",
      "----------------------------------------\n",
      "----------------------------------------\n",
      "| rollout/                |            |\n",
      "|    ep_len_mean          | 17.7       |\n",
      "|    ep_rew_mean          | 0.03       |\n",
      "| time/                   |            |\n",
      "|    fps                  | 2          |\n",
      "|    iterations           | 30         |\n",
      "|    time_elapsed         | 1800       |\n",
      "|    total_timesteps      | 3840       |\n",
      "| train/                  |            |\n",
      "|    approx_kl            | 0.12056126 |\n",
      "|    clip_fraction        | 0.716      |\n",
      "|    clip_range           | 0.2        |\n",
      "|    entropy_loss         | -1.2       |\n",
      "|    explained_variance   | -2.32      |\n",
      "|    learning_rate        | 0.0003     |\n",
      "|    loss                 | -0.113     |\n",
      "|    n_updates            | 1070       |\n",
      "|    policy_gradient_loss | -0.0337    |\n",
      "|    value_loss           | 0.000818   |\n",
      "----------------------------------------\n",
      "-----------------------------------------\n",
      "| rollout/                |             |\n",
      "|    ep_len_mean          | 18.1        |\n",
      "|    ep_rew_mean          | 0.03        |\n",
      "| time/                   |             |\n",
      "|    fps                  | 2           |\n",
      "|    iterations           | 31          |\n",
      "|    time_elapsed         | 1860        |\n",
      "|    total_timesteps      | 3968        |\n",
      "| train/                  |             |\n",
      "|    approx_kl            | 0.099256486 |\n",
      "|    clip_fraction        | 0.59        |\n",
      "|    clip_range           | 0.2         |\n",
      "|    entropy_loss         | -1.23       |\n",
      "|    explained_variance   | -10.3       |\n",
      "|    learning_rate        | 0.0003      |\n",
      "|    loss                 | -0.108      |\n",
      "|    n_updates            | 1080        |\n",
      "|    policy_gradient_loss | -0.0704     |\n",
      "|    value_loss           | 0.000676    |\n",
      "-----------------------------------------\n"
     ]
    },
    {
     "name": "stdout",
     "output_type": "stream",
     "text": [
      "----------------------------------------\n",
      "| rollout/                |            |\n",
      "|    ep_len_mean          | 18         |\n",
      "|    ep_rew_mean          | 0.03       |\n",
      "| time/                   |            |\n",
      "|    fps                  | 2          |\n",
      "|    iterations           | 32         |\n",
      "|    time_elapsed         | 1922       |\n",
      "|    total_timesteps      | 4096       |\n",
      "| train/                  |            |\n",
      "|    approx_kl            | 0.10196182 |\n",
      "|    clip_fraction        | 0.6        |\n",
      "|    clip_range           | 0.2        |\n",
      "|    entropy_loss         | -1.24      |\n",
      "|    explained_variance   | -2.25      |\n",
      "|    learning_rate        | 0.0003     |\n",
      "|    loss                 | -0.128     |\n",
      "|    n_updates            | 1090       |\n",
      "|    policy_gradient_loss | -0.0745    |\n",
      "|    value_loss           | 0.00052    |\n",
      "----------------------------------------\n",
      "-----------------------------------------\n",
      "| rollout/                |             |\n",
      "|    ep_len_mean          | 17.9        |\n",
      "|    ep_rew_mean          | 0.03        |\n",
      "| time/                   |             |\n",
      "|    fps                  | 2           |\n",
      "|    iterations           | 33          |\n",
      "|    time_elapsed         | 1982        |\n",
      "|    total_timesteps      | 4224        |\n",
      "| train/                  |             |\n",
      "|    approx_kl            | 0.080173776 |\n",
      "|    clip_fraction        | 0.573       |\n",
      "|    clip_range           | 0.2         |\n",
      "|    entropy_loss         | -1.24       |\n",
      "|    explained_variance   | -6.39       |\n",
      "|    learning_rate        | 0.0003      |\n",
      "|    loss                 | -0.126      |\n",
      "|    n_updates            | 1100        |\n",
      "|    policy_gradient_loss | -0.0609     |\n",
      "|    value_loss           | 0.000537    |\n",
      "-----------------------------------------\n",
      "---------------------------------------\n",
      "| rollout/                |           |\n",
      "|    ep_len_mean          | 17.8      |\n",
      "|    ep_rew_mean          | 0.03      |\n",
      "| time/                   |           |\n",
      "|    fps                  | 2         |\n",
      "|    iterations           | 34        |\n",
      "|    time_elapsed         | 2041      |\n",
      "|    total_timesteps      | 4352      |\n",
      "| train/                  |           |\n",
      "|    approx_kl            | 0.0940384 |\n",
      "|    clip_fraction        | 0.538     |\n",
      "|    clip_range           | 0.2       |\n",
      "|    entropy_loss         | -1.26     |\n",
      "|    explained_variance   | -18.7     |\n",
      "|    learning_rate        | 0.0003    |\n",
      "|    loss                 | -0.123    |\n",
      "|    n_updates            | 1110      |\n",
      "|    policy_gradient_loss | -0.0513   |\n",
      "|    value_loss           | 0.000316  |\n",
      "---------------------------------------\n",
      "----------------------------------------\n",
      "| rollout/                |            |\n",
      "|    ep_len_mean          | 17.9       |\n",
      "|    ep_rew_mean          | 0.03       |\n",
      "| time/                   |            |\n",
      "|    fps                  | 2          |\n",
      "|    iterations           | 35         |\n",
      "|    time_elapsed         | 2104       |\n",
      "|    total_timesteps      | 4480       |\n",
      "| train/                  |            |\n",
      "|    approx_kl            | 0.23388086 |\n",
      "|    clip_fraction        | 0.784      |\n",
      "|    clip_range           | 0.2        |\n",
      "|    entropy_loss         | -1.11      |\n",
      "|    explained_variance   | -0.249     |\n",
      "|    learning_rate        | 0.0003     |\n",
      "|    loss                 | -0.144     |\n",
      "|    n_updates            | 1120       |\n",
      "|    policy_gradient_loss | -0.0776    |\n",
      "|    value_loss           | 0.00174    |\n",
      "----------------------------------------\n",
      "---------------------------------------\n",
      "| rollout/                |           |\n",
      "|    ep_len_mean          | 17.9      |\n",
      "|    ep_rew_mean          | 0.03      |\n",
      "| time/                   |           |\n",
      "|    fps                  | 2         |\n",
      "|    iterations           | 36        |\n",
      "|    time_elapsed         | 2163      |\n",
      "|    total_timesteps      | 4608      |\n",
      "| train/                  |           |\n",
      "|    approx_kl            | 0.1546574 |\n",
      "|    clip_fraction        | 0.658     |\n",
      "|    clip_range           | 0.2       |\n",
      "|    entropy_loss         | -1.15     |\n",
      "|    explained_variance   | -0.00738  |\n",
      "|    learning_rate        | 0.0003    |\n",
      "|    loss                 | -0.0732   |\n",
      "|    n_updates            | 1130      |\n",
      "|    policy_gradient_loss | -0.0412   |\n",
      "|    value_loss           | 0.0332    |\n",
      "---------------------------------------\n",
      "----------------------------------------\n",
      "| rollout/                |            |\n",
      "|    ep_len_mean          | 17.9       |\n",
      "|    ep_rew_mean          | 0.03       |\n",
      "| time/                   |            |\n",
      "|    fps                  | 2          |\n",
      "|    iterations           | 37         |\n",
      "|    time_elapsed         | 2224       |\n",
      "|    total_timesteps      | 4736       |\n",
      "| train/                  |            |\n",
      "|    approx_kl            | 0.11885948 |\n",
      "|    clip_fraction        | 0.59       |\n",
      "|    clip_range           | 0.2        |\n",
      "|    entropy_loss         | -1.14      |\n",
      "|    explained_variance   | -2.99      |\n",
      "|    learning_rate        | 0.0003     |\n",
      "|    loss                 | -0.154     |\n",
      "|    n_updates            | 1140       |\n",
      "|    policy_gradient_loss | -0.0674    |\n",
      "|    value_loss           | 0.00565    |\n",
      "----------------------------------------\n"
     ]
    }
   ],
   "source": [
    "model.learn(total_timesteps=11000, callback=callback)"
   ]
  },
  {
   "cell_type": "code",
   "execution_count": 2,
   "id": "flying-bloom",
   "metadata": {
    "scrolled": true
   },
   "outputs": [
    {
     "name": "stdout",
     "output_type": "stream",
     "text": [
      "TensorFlow installation not found - running with reduced feature set.\n",
      "/home/vini_suaiden/.local/lib/python3.9/site-packages/tensorboard_data_server/bin/server: /lib/x86_64-linux-gnu/libc.so.6: version `GLIBC_2.33' not found (required by /home/vini_suaiden/.local/lib/python3.9/site-packages/tensorboard_data_server/bin/server)\n",
      "/home/vini_suaiden/.local/lib/python3.9/site-packages/tensorboard_data_server/bin/server: /lib/x86_64-linux-gnu/libc.so.6: version `GLIBC_2.34' not found (required by /home/vini_suaiden/.local/lib/python3.9/site-packages/tensorboard_data_server/bin/server)\n",
      "/home/vini_suaiden/.local/lib/python3.9/site-packages/tensorboard_data_server/bin/server: /lib/x86_64-linux-gnu/libc.so.6: version `GLIBC_2.32' not found (required by /home/vini_suaiden/.local/lib/python3.9/site-packages/tensorboard_data_server/bin/server)\n",
      "Serving TensorBoard on localhost; to expose to the network, use a proxy or pass --bind_all\n",
      "TensorBoard 2.14.0 at http://localhost:6006/ (Press CTRL+C to quit)\n",
      "^C\n"
     ]
    }
   ],
   "source": [
    "!tensorboard --logdir=logs/post41/PPO_1"
   ]
  },
  {
   "cell_type": "code",
   "execution_count": 15,
   "id": "blank-native",
   "metadata": {
    "scrolled": false
   },
   "outputs": [
    {
     "name": "stdout",
     "output_type": "stream",
     "text": [
      "PPO_1\tPPO_12\tPPO_15\tPPO_18\tPPO_20\tPPO_23\tPPO_5  PPO_8\r\n",
      "PPO_10\tPPO_13\tPPO_16\tPPO_19\tPPO_21\tPPO_3\tPPO_6  PPO_9\r\n",
      "PPO_11\tPPO_14\tPPO_17\tPPO_2\tPPO_22\tPPO_4\tPPO_7\r\n"
     ]
    }
   ],
   "source": [
    "!ls logs/post40"
   ]
  },
  {
   "cell_type": "code",
   "execution_count": 57,
   "id": "chemical-clerk",
   "metadata": {},
   "outputs": [],
   "source": [
    "!rm -r train/post31_2"
   ]
  },
  {
   "cell_type": "code",
   "execution_count": 32,
   "id": "continued-northwest",
   "metadata": {},
   "outputs": [
    {
     "name": "stdout",
     "output_type": "stream",
     "text": [
      "AutoROM\r\n",
      "AutoROM-0.6.1.dist-info\r\n",
      "AutoROM.accept_rom_license-0.6.1.dist-info\r\n",
      "AutoROM.py\r\n",
      "EasyProcess-1.1.dist-info\r\n",
      "Farama_Notifications-0.0.4.dist-info\r\n",
      "Markdown-3.4.4.dist-info\r\n",
      "MarkupSafe-2.0.1.dist-info\r\n",
      "MouseInfo-0.1.3.dist-info\r\n",
      "PIL\r\n",
      "Pillow-10.0.0.dist-info\r\n",
      "Pillow.libs\r\n",
      "PyAutoGUI-0.9.54.dist-info\r\n",
      "PyGetWindow-0.0.9.dist-info\r\n",
      "PyMsgBox-1.0.9.dist-info\r\n",
      "PyRect-0.2.0.dist-info\r\n",
      "PyScreeze-0.1.29.dist-info\r\n",
      "Pygments-2.16.1.dist-info\r\n",
      "Shimmy-1.1.0.dist-info\r\n",
      "Xlib\r\n",
      "__pycache__\r\n",
      "absl\r\n",
      "absl_py-1.4.0.dist-info\r\n",
      "ale_py\r\n",
      "ale_py-0.8.1.dist-info\r\n",
      "cachetools\r\n",
      "cachetools-5.3.1.dist-info\r\n",
      "click\r\n",
      "click-8.1.7.dist-info\r\n",
      "cloudpickle\r\n",
      "cloudpickle-2.2.1.dist-info\r\n",
      "cmake\r\n",
      "cmake-3.27.2.dist-info\r\n",
      "contourpy\r\n",
      "contourpy-1.1.0.dist-info\r\n",
      "cv2\r\n",
      "cycler-0.11.0.dist-info\r\n",
      "cycler.py\r\n",
      "dateutil\r\n",
      "easyprocess\r\n",
      "entrypoint2\r\n",
      "entrypoint2-1.1.dist-info\r\n",
      "farama_notifications\r\n",
      "filelock\r\n",
      "filelock-3.12.3.dist-info\r\n",
      "fontTools\r\n",
      "fonttools-4.42.1.dist-info\r\n",
      "functorch\r\n",
      "google\r\n",
      "google_auth-2.22.0.dist-info\r\n",
      "google_auth_oauthlib\r\n",
      "google_auth_oauthlib-1.0.0.dist-info\r\n",
      "grpc\r\n",
      "grpcio-1.57.0.dist-info\r\n",
      "gymnasium\r\n",
      "gymnasium-0.29.1.dist-info\r\n",
      "importlib_metadata\r\n",
      "importlib_metadata-6.8.0.dist-info\r\n",
      "importlib_resources\r\n",
      "importlib_resources-6.0.1.dist-info\r\n",
      "isympy.py\r\n",
      "jeepney\r\n",
      "jeepney-0.8.0.dist-info\r\n",
      "kiwisolver\r\n",
      "kiwisolver-1.4.5.dist-info\r\n",
      "lit\r\n",
      "lit-16.0.6.dist-info\r\n",
      "markdown\r\n",
      "markdown_it\r\n",
      "markdown_it_py-3.0.0.dist-info\r\n",
      "markupsafe\r\n",
      "matplotlib\r\n",
      "matplotlib-3.7.2-py3.9-nspkg.pth\r\n",
      "matplotlib-3.7.2.dist-info\r\n",
      "mdurl\r\n",
      "mdurl-0.1.2.dist-info\r\n",
      "mouseinfo\r\n",
      "mpl_toolkits\r\n",
      "mpmath\r\n",
      "mpmath-1.3.0.dist-info\r\n",
      "mss\r\n",
      "mss-9.0.1.dist-info\r\n",
      "networkx\r\n",
      "networkx-3.1.dist-info\r\n",
      "numpy\r\n",
      "numpy-1.25.2.dist-info\r\n",
      "numpy.libs\r\n",
      "nvfuser\r\n",
      "nvidia\r\n",
      "nvidia_cublas_cu11-11.10.3.66.dist-info\r\n",
      "nvidia_cuda_cupti_cu11-11.7.101.dist-info\r\n",
      "nvidia_cuda_nvrtc_cu11-11.7.99.dist-info\r\n",
      "nvidia_cuda_runtime_cu11-11.7.99.dist-info\r\n",
      "nvidia_cudnn_cu11-8.5.0.96.dist-info\r\n",
      "nvidia_cufft_cu11-10.9.0.58.dist-info\r\n",
      "nvidia_curand_cu11-10.2.10.91.dist-info\r\n",
      "nvidia_cusolver_cu11-11.4.0.1.dist-info\r\n",
      "nvidia_cusparse_cu11-11.7.4.91.dist-info\r\n",
      "nvidia_nccl_cu11-2.14.3.dist-info\r\n",
      "nvidia_nvtx_cu11-11.7.91.dist-info\r\n",
      "oauthlib\r\n",
      "oauthlib-3.2.2.dist-info\r\n",
      "opencv_python-4.8.0.76.dist-info\r\n",
      "opencv_python.libs\r\n",
      "packaging\r\n",
      "packaging-23.1.dist-info\r\n",
      "pandas\r\n",
      "pandas-2.1.0.dist-info\r\n",
      "protobuf-3.20.3-py3.9-nspkg.pth\r\n",
      "protobuf-3.20.3.dist-info\r\n",
      "pyasn1\r\n",
      "pyasn1-0.5.0.dist-info\r\n",
      "pyasn1_modules\r\n",
      "pyasn1_modules-0.3.0.dist-info\r\n",
      "pyautogui\r\n",
      "pygame\r\n",
      "pygame-2.5.1.dist-info\r\n",
      "pygame.libs\r\n",
      "pygetwindow\r\n",
      "pygments\r\n",
      "pylab.py\r\n",
      "pymsgbox\r\n",
      "pyperclip\r\n",
      "pyperclip-1.8.2.dist-info\r\n",
      "pyrect\r\n",
      "pyscreenshot\r\n",
      "pyscreenshot-3.1.dist-info\r\n",
      "pyscreeze\r\n",
      "pytesseract\r\n",
      "pytesseract-0.3.10.dist-info\r\n",
      "python3_xlib-0.15.dist-info\r\n",
      "python_dateutil-2.8.2.dist-info\r\n",
      "pytweening\r\n",
      "pytweening-1.0.7.dist-info\r\n",
      "pytz\r\n",
      "pytz-2023.3.dist-info\r\n",
      "requests_oauthlib\r\n",
      "requests_oauthlib-1.3.1.dist-info\r\n",
      "rich\r\n",
      "rich-13.5.2.dist-info\r\n",
      "rsa\r\n",
      "rsa-4.9.dist-info\r\n",
      "shimmy\r\n",
      "stable_baselines3\r\n",
      "stable_baselines3-2.1.0.dist-info\r\n",
      "sympy\r\n",
      "sympy-1.12.dist-info\r\n",
      "tensorboard\r\n",
      "tensorboard-2.14.0.dist-info\r\n",
      "tensorboard_data_server\r\n",
      "tensorboard_data_server-0.7.1.dist-info\r\n",
      "torch\r\n",
      "torch-2.0.1.dist-info\r\n",
      "torchaudio\r\n",
      "torchaudio-2.0.2.dist-info\r\n",
      "torchgen\r\n",
      "torchvision\r\n",
      "torchvision-0.15.2.dist-info\r\n",
      "torchvision.libs\r\n",
      "tqdm\r\n",
      "tqdm-4.66.1.dist-info\r\n",
      "triton\r\n",
      "triton-2.0.0.dist-info\r\n",
      "typing_extensions-4.7.1.dist-info\r\n",
      "typing_extensions.py\r\n",
      "tzdata\r\n",
      "tzdata-2023.3.dist-info\r\n",
      "werkzeug\r\n",
      "werkzeug-2.3.7.dist-info\r\n",
      "zipp\r\n",
      "zipp-3.16.2.dist-info\r\n"
     ]
    }
   ],
   "source": [
    "!ls /home/vini_suaiden/.local/lib/python3.9/site-packages"
   ]
  },
  {
   "cell_type": "code",
   "execution_count": 19,
   "id": "durable-courage",
   "metadata": {},
   "outputs": [
    {
     "name": "stdout",
     "output_type": "stream",
     "text": [
      "Collecting pygad\n",
      "  Downloading pygad-3.2.0-py3-none-any.whl (80 kB)\n",
      "\u001b[K     |████████████████████████████████| 80 kB 4.2 MB/s eta 0:00:011\n",
      "\u001b[?25hRequirement already satisfied: numpy in /home/vini_suaiden/.local/lib/python3.9/site-packages (from pygad) (1.25.2)\n",
      "Requirement already satisfied: matplotlib in /home/vini_suaiden/.local/lib/python3.9/site-packages (from pygad) (3.7.2)\n",
      "Requirement already satisfied: cloudpickle in /home/vini_suaiden/.local/lib/python3.9/site-packages (from pygad) (2.2.1)\n",
      "Requirement already satisfied: contourpy>=1.0.1 in /home/vini_suaiden/.local/lib/python3.9/site-packages (from matplotlib->pygad) (1.1.0)\n",
      "Requirement already satisfied: kiwisolver>=1.0.1 in /home/vini_suaiden/.local/lib/python3.9/site-packages (from matplotlib->pygad) (1.4.5)\n",
      "Requirement already satisfied: python-dateutil>=2.7 in /home/vini_suaiden/.local/lib/python3.9/site-packages (from matplotlib->pygad) (2.8.2)\n",
      "Requirement already satisfied: pillow>=6.2.0 in /home/vini_suaiden/.local/lib/python3.9/site-packages (from matplotlib->pygad) (10.0.0)\n",
      "Requirement already satisfied: pyparsing<3.1,>=2.3.1 in /usr/lib/python3/dist-packages (from matplotlib->pygad) (2.4.7)\n",
      "Requirement already satisfied: cycler>=0.10 in /home/vini_suaiden/.local/lib/python3.9/site-packages (from matplotlib->pygad) (0.11.0)\n",
      "Requirement already satisfied: fonttools>=4.22.0 in /home/vini_suaiden/.local/lib/python3.9/site-packages (from matplotlib->pygad) (4.42.1)\n",
      "Requirement already satisfied: importlib-resources>=3.2.0 in /home/vini_suaiden/.local/lib/python3.9/site-packages (from matplotlib->pygad) (6.0.1)\n",
      "Requirement already satisfied: packaging>=20.0 in /home/vini_suaiden/.local/lib/python3.9/site-packages (from matplotlib->pygad) (23.1)\n",
      "Requirement already satisfied: zipp>=3.1.0 in /home/vini_suaiden/.local/lib/python3.9/site-packages (from importlib-resources>=3.2.0->matplotlib->pygad) (3.16.2)\n",
      "Requirement already satisfied: six>=1.5 in /usr/lib/python3/dist-packages (from python-dateutil>=2.7->matplotlib->pygad) (1.16.0)\n",
      "Installing collected packages: pygad\n",
      "Successfully installed pygad-3.2.0\n"
     ]
    }
   ],
   "source": [
    "!pip install pygad"
   ]
  },
  {
   "cell_type": "code",
   "execution_count": 43,
   "id": "difficult-justice",
   "metadata": {},
   "outputs": [],
   "source": [
    "from torch import nn\n",
    "import torch as th\n",
    "from stable_baselines3.common.torch_layers import BaseFeaturesExtractor\n",
    "\n",
    "class CustomNatureCNN(BaseFeaturesExtractor):\n",
    "    def __init__(self, observation_space, features_dim=512):\n",
    "        super().__init__(observation_space, features_dim)\n",
    "\n",
    "        n_input_channels = observation_space.shape[0]\n",
    "        \n",
    "        self.cnn = nn.Sequential(\n",
    "            nn.Conv2d(n_input_channels, 64, kernel_size=8, stride=4),  # Increased to 64 filters\n",
    "            nn.BatchNorm2d(64),  # Added BatchNorm\n",
    "            nn.ReLU(),\n",
    "            nn.Conv2d(64, 128, kernel_size=4, stride=2),  # Increased to 128 filters\n",
    "            nn.BatchNorm2d(128),  # Added BatchNorm\n",
    "            nn.ReLU(),\n",
    "            nn.Conv2d(128, 128, kernel_size=3, stride=1),  # Maintained at 128 filters\n",
    "            nn.BatchNorm2d(128),  # Added BatchNorm\n",
    "            nn.ReLU(),\n",
    "            nn.Conv2d(128, 256, kernel_size=3, stride=1),  # New Layer\n",
    "            nn.BatchNorm2d(256),  # New Layer\n",
    "            nn.ReLU(),  # New Layer\n",
    "            nn.Flatten(),\n",
    "        )\n",
    "\n",
    "        with th.no_grad():\n",
    "            n_flatten = self.cnn(th.as_tensor(observation_space.sample()[None]).float()).shape[1]\n",
    "\n",
    "        self.linear = nn.Sequential(\n",
    "            nn.Linear(n_flatten, features_dim * 2),\n",
    "            nn.BatchNorm1d(features_dim * 2),  # Added BatchNorm\n",
    "            nn.ReLU(),\n",
    "            nn.Dropout(0.2),  # Added Dropout\n",
    "            \n",
    "            nn.Linear(features_dim * 2, features_dim),  # New Layer\n",
    "            nn.BatchNorm1d(features_dim),  # New Layer\n",
    "            nn.ReLU(),  # New Layer\n",
    "            nn.Dropout(0.2),  # New Layer\n",
    "        )\n",
    "\n",
    "    def forward(self, x):\n",
    "        x = self.cnn(x)\n",
    "        return self.linear(x)"
   ]
  },
  {
   "cell_type": "code",
   "execution_count": 69,
   "id": "fifty-helen",
   "metadata": {},
   "outputs": [],
   "source": [
    "def mutate_model(model, mutation_rate=0.5):\n",
    "    for param in model.parameters():\n",
    "        noise = th.randn_like(param.data) * mutation_rate\n",
    "        param.data += noise"
   ]
  },
  {
   "cell_type": "code",
   "execution_count": 70,
   "id": "registered-focus",
   "metadata": {},
   "outputs": [],
   "source": [
    "def fitness(model):\n",
    "    with th.no_grad():\n",
    "        obs = env.reset()\n",
    "        terminated = False\n",
    "        total_reward = 0\n",
    "        while not terminated:\n",
    "            action = model(th.from_numpy(obs[0].reshape((1, 1, 100, 100))).float())\n",
    "            obs, reward, terminated, truncated, info =  env.step(int(th.argmax(action[0])))\n",
    "            total_reward  += reward\n",
    "        print(total_reward)\n",
    "    return total_reward"
   ]
  },
  {
   "cell_type": "code",
   "execution_count": null,
   "id": "embedded-overhead",
   "metadata": {},
   "outputs": [
    {
     "name": "stdout",
     "output_type": "stream",
     "text": [
      "1.06\n",
      "0.060000000000000005\n",
      "0.09\n",
      "0.09999999999999999\n",
      "2.06\n",
      "1.06\n",
      "2.04\n",
      "0.07\n",
      "0.04\n",
      "0.08\n",
      "2.06\n",
      "1.04\n",
      "0.08\n",
      "1.06\n",
      "0.08\n",
      "1.04\n",
      "0.07\n",
      "1.06\n",
      "1.07\n",
      "0.07\n",
      "1.06\n",
      "1.06\n",
      "0.04\n",
      "0.07\n",
      "0.04\n",
      "2.06\n",
      "0.08\n",
      "0.08\n",
      "1.06\n",
      "0.11999999999999998\n",
      "1.09\n",
      "0.07\n",
      "1.04\n",
      "0.04\n",
      "1.04\n",
      "0.060000000000000005\n",
      "0.10999999999999999\n",
      "0.060000000000000005\n",
      "1.06\n",
      "1.04\n",
      "1.08\n",
      "0.060000000000000005\n",
      "0.04\n",
      "0.060000000000000005\n",
      "1.07\n",
      "2.06\n",
      "1.04\n",
      "2.06\n",
      "1.06\n",
      "2.04\n",
      "1.04\n",
      "2.06\n",
      "1.04\n",
      "2.06\n",
      "1.04\n",
      "0.04\n",
      "2.06\n",
      "1.06\n",
      "2.04\n",
      "1.06\n",
      "2.06\n",
      "2.04\n",
      "0.08\n",
      "0.060000000000000005\n",
      "1.08\n",
      "0.05\n",
      "2.04\n",
      "1.04\n",
      "0.04\n",
      "0.04\n",
      "1.06\n",
      "0.08\n",
      "1.09\n",
      "1.06\n",
      "1.08\n",
      "2.06\n",
      "0.09999999999999999\n",
      "2.04\n",
      "2.06\n",
      "1.06\n",
      "2.04\n",
      "0.07\n",
      "1.04\n",
      "1.04\n",
      "1.04\n",
      "0.07\n",
      "2.04\n",
      "1.08\n",
      "1.06\n",
      "0.060000000000000005\n",
      "0.04\n",
      "1.04\n",
      "0.04\n",
      "0.07\n",
      "0.060000000000000005\n",
      "1.04\n",
      "0.11999999999999998\n",
      "0.08\n",
      "0.060000000000000005\n",
      "2.04\n",
      "1.06\n",
      "2.06\n",
      "0.04\n",
      "0.060000000000000005\n",
      "0.08\n",
      "0.04\n",
      "1.06\n",
      "2.06\n",
      "2.04\n",
      "1.06\n",
      "1.08\n",
      "2.04\n",
      "1.04\n",
      "0.060000000000000005\n",
      "2.04\n",
      "1.06\n",
      "0.04\n",
      "0.09999999999999999\n",
      "1.04\n",
      "2.04\n",
      "0.04\n",
      "0.060000000000000005\n",
      "1.04\n",
      "0.060000000000000005\n",
      "2.04\n",
      "2.06\n",
      "2.06\n",
      "1.06\n",
      "1.08\n",
      "2.04\n",
      "2.06\n",
      "0.060000000000000005\n",
      "0.07\n",
      "0.09\n",
      "0.060000000000000005\n",
      "2.06\n"
     ]
    }
   ],
   "source": [
    "import copy\n",
    "import numpy as np\n",
    "\n",
    "# 0.5 0.5 0.1\n",
    "# best_net = NatureCNNAction(env.observation_space, env.action_space)\n",
    "\n",
    "for i in range(20):\n",
    "    models, fitnesses = [best_net], np.array([fitness(best_net)])\n",
    "\n",
    "    for j in range(5):\n",
    "        new_net = copy.deepcopy(best_net)\n",
    "        mutate_model(new_net, 0.005)\n",
    "        models += [new_net]\n",
    "        fitnesses = np.append(fitnesses, fitness(new_net))\n",
    "\n",
    "    if np.argmax(fitnesses) != 0:\n",
    "        if fitness(models[np.argmax(fitnesses)]) > fitness(models[0]):\n",
    "            best_net = models[np.argmax(fitnesses)]"
   ]
  },
  {
   "cell_type": "code",
   "execution_count": 40,
   "id": "comic-advice",
   "metadata": {},
   "outputs": [],
   "source": [
    "def nfitness(model):\n",
    "    with th.no_grad():\n",
    "        obs = env.reset()\n",
    "        terminated = False\n",
    "        total_reward = 0\n",
    "        while not terminated:\n",
    "            action = model(th.from_numpy(obs[0].reshape((1, 1, 100, 100))).float())\n",
    "            print(action)\n",
    "            obs, reward, terminated, truncated, info =  env.step(int(th.argmax(action[0])))\n",
    "            total_reward  += reward\n",
    "    return total_reward"
   ]
  },
  {
   "cell_type": "code",
   "execution_count": 41,
   "id": "organized-amateur",
   "metadata": {},
   "outputs": [
    {
     "name": "stdout",
     "output_type": "stream",
     "text": [
      "tensor([[ -6075117.5000, -12665053.0000,  -4357501.0000,  13417721.0000]])\n",
      "tensor([[ -5744485.5000, -12922911.0000,  -4502274.0000,  13395107.0000]])\n",
      "tensor([[ -5707320., -12637107.,  -4278970.,  13455169.]])\n",
      "tensor([[ -5553894.0000, -12813138.0000,  -3822536.7500,  13628059.0000]])\n",
      "tensor([[ -5608212.5000, -12304506.0000,  -4338696.0000,  14077524.0000]])\n",
      "tensor([[ -6218174.5000, -12369713.0000,  -4339256.5000,  13903437.0000]])\n",
      "tensor([[ -6188797., -12096056.,  -4477908.,  13864024.]])\n",
      "tensor([[ -6585523.5000, -12358921.0000,  -4608738.5000,  13571783.0000]])\n",
      "tensor([[ -6314320.5000, -12822255.0000,  -4771091.5000,  13461155.0000]])\n",
      "tensor([[ -6208064.5000, -12716905.0000,  -4766095.5000,  13462622.0000]])\n",
      "tensor([[ -6258193.5000, -12514149.0000,  -4626580.5000,  13564372.0000]])\n",
      "tensor([[ -6099686.5000, -12424120.0000,  -4835744.0000,  13765049.0000]])\n",
      "tensor([[ -6113037.5000, -12391699.0000,  -4766543.5000,  13573074.0000]])\n",
      "tensor([[ -6123784.5000, -12493047.0000,  -4901864.0000,  13364253.0000]])\n",
      "tensor([[ -6091693.0000, -12510946.0000,  -4878679.5000,  13406012.0000]])\n",
      "tensor([[ -6189341.5000, -12510763.0000,  -4891252.5000,  13384066.0000]])\n",
      "tensor([[ -6213801.5000, -12471540.0000,  -4866872.0000,  13375169.0000]])\n",
      "tensor([[ -6093429.0000, -12488965.0000,  -4880214.5000,  13394053.0000]])\n",
      "tensor([[ -6129629., -12494667.,  -4926389.,  13349809.]])\n"
     ]
    },
    {
     "data": {
      "text/plain": [
       "0.19000000000000003"
      ]
     },
     "execution_count": 41,
     "metadata": {},
     "output_type": "execute_result"
    }
   ],
   "source": [
    "nfitness(best_net)"
   ]
  },
  {
   "cell_type": "code",
   "execution_count": 13,
   "id": "accomplished-ethiopia",
   "metadata": {},
   "outputs": [],
   "source": [
    "def encode_weights(net):\n",
    "    return th.cat([p.flatten() for p in net.parameters()])\n",
    "\n",
    "def decode_weights(vector, net):\n",
    "    start = 0\n",
    "    for p in net.parameters():\n",
    "        end = start + p.numel()\n",
    "        p.data.copy_(vector[start:end].view(p.size()))\n",
    "        start = end\n",
    "\n",
    "def fitness_func(ga_instance, solution, solution_idx):\n",
    "    decode_weights(th.Tensor(solution), net)\n",
    "    obs = env.reset()\n",
    "    terminated = False\n",
    "    total_reward = 0\n",
    "    while not terminated:\n",
    "        action = net(th.from_numpy(obs[0].reshape((1, 1, 100, 100))).float())\n",
    "        obs, reward, terminated, truncated, info =  env.step(int(th.argmax(action[0])))\n",
    "        total_reward  += reward\n",
    "    print(total_reward)\n",
    "    return total_reward"
   ]
  },
  {
   "cell_type": "code",
   "execution_count": 14,
   "id": "protected-police",
   "metadata": {},
   "outputs": [],
   "source": [
    "num_generations = 100\n",
    "num_parents_mating = 1\n",
    "#keep_parents = 1\n",
    "sol_per_pop = 5\n",
    "\n",
    "initial_population = th.randn((sol_per_pop, encode_weights(net).shape[0])).numpy()\n",
    "\n",
    "ga_instance = pygad.GA(\n",
    "    num_generations=num_generations,\n",
    "    num_parents_mating=num_parents_mating,\n",
    "    fitness_func=fitness_func,\n",
    "    sol_per_pop=sol_per_pop,\n",
    "    num_genes=initial_population.shape[1],\n",
    "    init_range_low=-1,\n",
    "    init_range_high=1,\n",
    "    #parent_selection_type=\"rank\",\n",
    "    #keep_parents=keep_parents,\n",
    "    keep_elitism=1,\n",
    "    crossover_type=None,\n",
    "    mutation_type=\"random\",\n",
    "    mutation_probability=1.0\n",
    ")"
   ]
  },
  {
   "cell_type": "code",
   "execution_count": 15,
   "id": "modular-vacuum",
   "metadata": {},
   "outputs": [
    {
     "name": "stdout",
     "output_type": "stream",
     "text": [
      "0.16\n",
      "0.22000000000000006\n",
      "0.16\n",
      "0.19000000000000003\n",
      "0.19000000000000003\n",
      "0.16\n",
      "0.16\n",
      "0.16\n",
      "0.16\n",
      "0.16\n",
      "0.19000000000000003\n",
      "0.16\n",
      "0.16\n",
      "0.16\n",
      "0.12999999999999998\n",
      "0.16\n",
      "0.16\n",
      "0.16\n",
      "0.16\n",
      "0.12999999999999998\n",
      "0.16\n",
      "0.16\n",
      "0.16\n",
      "0.19000000000000003\n",
      "0.09999999999999999\n",
      "0.16\n",
      "0.19000000000000003\n",
      "0.16\n",
      "0.16\n",
      "0.19000000000000003\n",
      "0.16\n",
      "0.12999999999999998\n",
      "0.16\n",
      "0.16\n",
      "0.12999999999999998\n",
      "0.16\n",
      "0.16\n",
      "0.12999999999999998\n",
      "0.19000000000000003\n",
      "0.16\n",
      "0.16\n",
      "0.16\n",
      "0.19000000000000003\n",
      "0.16\n",
      "0.19000000000000003\n",
      "0.12999999999999998\n",
      "0.19000000000000003\n",
      "0.16\n",
      "0.19000000000000003\n",
      "0.16\n",
      "0.19000000000000003\n",
      "0.12999999999999998\n",
      "0.12999999999999998\n",
      "0.16\n",
      "0.16\n",
      "0.16\n",
      "0.16\n",
      "0.19000000000000003\n",
      "0.16\n",
      "0.12999999999999998\n",
      "0.16\n",
      "0.16\n",
      "0.16\n",
      "0.19000000000000003\n",
      "0.12999999999999998\n",
      "0.12999999999999998\n",
      "0.16\n",
      "0.25000000000000006\n",
      "0.16\n",
      "0.09999999999999999\n",
      "0.16\n",
      "0.19000000000000003\n",
      "0.16\n",
      "0.16\n",
      "0.16\n",
      "0.12999999999999998\n",
      "0.16\n",
      "0.19000000000000003\n",
      "0.16\n",
      "0.16\n",
      "0.16\n",
      "0.16\n",
      "0.12999999999999998\n",
      "0.19000000000000003\n",
      "0.16\n",
      "0.16\n",
      "0.19000000000000003\n",
      "0.16\n",
      "0.12999999999999998\n",
      "0.16\n",
      "0.16\n",
      "0.16\n",
      "0.19000000000000003\n",
      "0.16\n",
      "0.16\n",
      "0.16\n",
      "0.25000000000000006\n",
      "0.16\n",
      "0.19000000000000003\n",
      "0.16\n",
      "0.16\n",
      "0.16\n",
      "0.12999999999999998\n",
      "0.16\n",
      "0.19000000000000003\n",
      "0.16\n",
      "0.16\n",
      "0.16\n",
      "0.22000000000000006\n",
      "0.12999999999999998\n",
      "0.16\n",
      "0.12999999999999998\n",
      "0.16\n",
      "0.12999999999999998\n",
      "0.16\n",
      "0.16\n",
      "0.16\n",
      "0.16\n",
      "0.16\n",
      "0.16\n",
      "0.19000000000000003\n",
      "0.16\n",
      "0.16\n",
      "0.16\n",
      "0.16\n",
      "0.16\n",
      "0.12999999999999998\n",
      "0.19000000000000003\n",
      "0.16\n",
      "0.19000000000000003\n",
      "0.16\n",
      "0.16\n",
      "0.16\n",
      "0.12999999999999998\n",
      "0.16\n",
      "0.19000000000000003\n",
      "0.16\n",
      "0.12999999999999998\n",
      "0.16\n",
      "0.16\n",
      "0.19000000000000003\n",
      "0.16\n",
      "0.16\n",
      "0.16\n",
      "0.12999999999999998\n",
      "0.12999999999999998\n",
      "0.16\n",
      "0.16\n",
      "0.12999999999999998\n",
      "0.12999999999999998\n",
      "0.12999999999999998\n",
      "0.16\n",
      "0.12999999999999998\n",
      "0.16\n",
      "0.12999999999999998\n",
      "0.12999999999999998\n",
      "0.12999999999999998\n",
      "0.12999999999999998\n",
      "0.12999999999999998\n",
      "0.16\n",
      "0.12999999999999998\n",
      "0.12999999999999998\n",
      "0.12999999999999998\n",
      "0.12999999999999998\n",
      "1.1800000000000002\n",
      "0.16\n",
      "0.12999999999999998\n",
      "0.12999999999999998\n",
      "0.16\n",
      "0.19000000000000003\n",
      "0.19000000000000003\n",
      "0.16\n",
      "0.12999999999999998\n",
      "0.16\n",
      "0.16\n",
      "0.19000000000000003\n",
      "0.19000000000000003\n",
      "0.19000000000000003\n",
      "0.16\n",
      "0.16\n",
      "0.12999999999999998\n",
      "0.16\n",
      "0.19000000000000003\n",
      "0.16\n",
      "0.19000000000000003\n",
      "0.19000000000000003\n",
      "0.19000000000000003\n",
      "0.16\n",
      "0.19000000000000003\n",
      "0.16\n",
      "0.19000000000000003\n",
      "0.12999999999999998\n",
      "0.19000000000000003\n",
      "0.19000000000000003\n",
      "1.24\n",
      "0.16\n",
      "0.22000000000000006\n",
      "0.19000000000000003\n",
      "0.19000000000000003\n",
      "0.19000000000000003\n",
      "0.19000000000000003\n",
      "0.19000000000000003\n",
      "0.16\n",
      "0.19000000000000003\n",
      "0.19000000000000003\n",
      "0.16\n",
      "0.19000000000000003\n",
      "0.19000000000000003\n",
      "0.16\n",
      "0.16\n",
      "0.12999999999999998\n",
      "0.22000000000000006\n",
      "0.19000000000000003\n",
      "0.16\n",
      "0.16\n",
      "0.19000000000000003\n",
      "0.16\n",
      "0.19000000000000003\n",
      "0.12999999999999998\n",
      "0.16\n",
      "0.16\n",
      "0.22000000000000006\n",
      "0.19000000000000003\n",
      "0.16\n",
      "0.19000000000000003\n",
      "0.16\n",
      "0.19000000000000003\n",
      "0.16\n",
      "0.19000000000000003\n",
      "0.19000000000000003\n",
      "0.19000000000000003\n",
      "0.16\n",
      "0.19000000000000003\n",
      "0.19000000000000003\n",
      "0.19000000000000003\n",
      "0.19000000000000003\n",
      "0.19000000000000003\n",
      "0.19000000000000003\n",
      "0.16\n",
      "0.19000000000000003\n",
      "0.16\n",
      "0.19000000000000003\n",
      "0.19000000000000003\n",
      "0.19000000000000003\n",
      "0.19000000000000003\n",
      "0.12999999999999998\n",
      "0.12999999999999998\n",
      "0.19000000000000003\n",
      "0.19000000000000003\n",
      "0.19000000000000003\n",
      "0.12999999999999998\n",
      "0.12999999999999998\n",
      "0.16\n",
      "0.19000000000000003\n",
      "0.19000000000000003\n",
      "0.19000000000000003\n",
      "0.19000000000000003\n",
      "0.16\n",
      "0.19000000000000003\n",
      "0.19000000000000003\n",
      "0.19000000000000003\n",
      "0.16\n",
      "0.19000000000000003\n",
      "0.19000000000000003\n",
      "0.19000000000000003\n",
      "0.19000000000000003\n",
      "0.19000000000000003\n",
      "0.22000000000000006\n",
      "0.16\n",
      "0.19000000000000003\n",
      "1.2100000000000002\n",
      "0.19000000000000003\n",
      "0.19000000000000003\n",
      "0.12999999999999998\n",
      "0.16\n",
      "0.19000000000000003\n",
      "0.16\n",
      "0.16\n",
      "0.16\n",
      "0.19000000000000003\n",
      "0.19000000000000003\n",
      "0.19000000000000003\n",
      "0.22000000000000006\n",
      "0.16\n",
      "0.19000000000000003\n",
      "0.19000000000000003\n",
      "0.19000000000000003\n",
      "0.16\n",
      "0.16\n",
      "0.19000000000000003\n",
      "0.19000000000000003\n",
      "0.19000000000000003\n",
      "0.19000000000000003\n",
      "0.19000000000000003\n",
      "0.19000000000000003\n",
      "0.12999999999999998\n",
      "0.19000000000000003\n",
      "0.19000000000000003\n",
      "0.16\n",
      "1.2400000000000002\n",
      "0.19000000000000003\n",
      "0.12999999999999998\n",
      "0.12999999999999998\n",
      "0.16\n",
      "0.16\n",
      "0.19000000000000003\n",
      "0.12999999999999998\n",
      "0.16\n",
      "0.16\n",
      "0.16\n",
      "0.25000000000000006\n",
      "0.12999999999999998\n",
      "0.12999999999999998\n",
      "0.19000000000000003\n",
      "0.19000000000000003\n",
      "0.12999999999999998\n",
      "0.12999999999999998\n",
      "0.16\n",
      "0.19000000000000003\n",
      "0.19000000000000003\n",
      "0.19000000000000003\n",
      "0.19000000000000003\n",
      "0.16\n",
      "0.19000000000000003\n",
      "0.16\n",
      "0.12999999999999998\n",
      "0.25000000000000006\n",
      "0.19000000000000003\n",
      "0.16\n",
      "0.16\n",
      "0.16\n",
      "0.12999999999999998\n",
      "0.16\n",
      "0.16\n",
      "0.16\n",
      "0.16\n",
      "0.16\n",
      "0.19000000000000003\n",
      "0.19000000000000003\n",
      "0.19000000000000003\n",
      "0.16\n",
      "0.19000000000000003\n",
      "0.16\n",
      "0.19000000000000003\n",
      "0.19000000000000003\n",
      "0.12999999999999998\n",
      "0.12999999999999998\n",
      "0.12999999999999998\n",
      "0.19000000000000003\n",
      "0.16\n",
      "0.16\n",
      "0.19000000000000003\n",
      "0.19000000000000003\n",
      "0.16\n",
      "0.16\n",
      "0.2800000000000001\n",
      "0.16\n",
      "0.19000000000000003\n",
      "0.16\n",
      "0.16\n",
      "0.19000000000000003\n",
      "0.16\n",
      "0.19000000000000003\n",
      "0.16\n",
      "0.16\n",
      "0.16\n",
      "0.16\n",
      "0.12999999999999998\n",
      "0.19000000000000003\n",
      "0.19000000000000003\n",
      "0.16\n",
      "0.2800000000000001\n",
      "0.12999999999999998\n",
      "0.12999999999999998\n",
      "0.16\n",
      "0.16\n",
      "0.16\n",
      "0.19000000000000003\n",
      "0.19000000000000003\n",
      "0.16\n",
      "0.19000000000000003\n",
      "0.19000000000000003\n",
      "0.16\n",
      "0.16\n",
      "0.16\n",
      "0.16\n",
      "0.16\n",
      "0.19000000000000003\n",
      "0.12999999999999998\n",
      "0.12999999999999998\n",
      "0.19000000000000003\n",
      "0.16\n",
      "0.19000000000000003\n",
      "0.16\n",
      "1.1800000000000002\n",
      "0.12999999999999998\n",
      "0.09999999999999999\n",
      "0.19000000000000003\n",
      "0.16\n",
      "0.16\n",
      "0.16\n",
      "0.19000000000000003\n",
      "0.16\n",
      "0.16\n",
      "0.19000000000000003\n"
     ]
    }
   ],
   "source": [
    "ga_instance.run()"
   ]
  },
  {
   "cell_type": "code",
   "execution_count": 31,
   "id": "cheap-drive",
   "metadata": {},
   "outputs": [],
   "source": [
    "obs = env.reset()"
   ]
  },
  {
   "cell_type": "code",
   "execution_count": 55,
   "id": "mighty-commodity",
   "metadata": {},
   "outputs": [
    {
     "data": {
      "text/plain": [
       "array([[[238, 238, 238, ..., 238, 238, 238],\n",
       "        [255, 255, 255, ..., 255, 255, 255],\n",
       "        [255, 255, 255, ..., 255, 255, 255],\n",
       "        ...,\n",
       "        [238, 238, 238, ..., 238, 238, 238],\n",
       "        [238, 238, 238, ..., 238, 238, 238],\n",
       "        [238, 238, 238, ..., 238, 238, 238]]], dtype=uint8)"
      ]
     },
     "execution_count": 55,
     "metadata": {},
     "output_type": "execute_result"
    }
   ],
   "source": [
    "obs[0].reshape((1, 100, 100))"
   ]
  },
  {
   "cell_type": "code",
   "execution_count": 7,
   "id": "underlying-checklist",
   "metadata": {},
   "outputs": [],
   "source": [
    "!rm -r train/post36"
   ]
  },
  {
   "cell_type": "code",
   "execution_count": null,
   "id": "limiting-fabric",
   "metadata": {},
   "outputs": [],
   "source": []
  }
 ],
 "metadata": {
  "kernelspec": {
   "display_name": "Python 3",
   "language": "python",
   "name": "python3"
  },
  "language_info": {
   "codemirror_mode": {
    "name": "ipython",
    "version": 3
   },
   "file_extension": ".py",
   "mimetype": "text/x-python",
   "name": "python",
   "nbconvert_exporter": "python",
   "pygments_lexer": "ipython3",
   "version": "3.9.2"
  }
 },
 "nbformat": 4,
 "nbformat_minor": 5
}
