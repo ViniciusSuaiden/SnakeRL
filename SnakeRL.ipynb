{
 "cells": [
  {
   "cell_type": "code",
   "execution_count": null,
   "id": "secret-aerospace",
   "metadata": {
    "scrolled": true
   },
   "outputs": [],
   "source": [
    "!pip3 install torch torchvision torchaudio"
   ]
  },
  {
   "cell_type": "code",
   "execution_count": null,
   "id": "unknown-jacksonville",
   "metadata": {
    "scrolled": true
   },
   "outputs": [],
   "source": [
    "!pip3 install stable-baselines3[extra] protobuf==3.20.*"
   ]
  },
  {
   "cell_type": "code",
   "execution_count": null,
   "id": "organizational-leone",
   "metadata": {
    "scrolled": true
   },
   "outputs": [],
   "source": [
    "!sudo apt install tesseract-ocr -y"
   ]
  },
  {
   "cell_type": "code",
   "execution_count": null,
   "id": "latin-luxury",
   "metadata": {},
   "outputs": [],
   "source": [
    "!sudo apt-get install python3-tk python3-dev -y"
   ]
  },
  {
   "cell_type": "code",
   "execution_count": 27,
   "id": "extra-cholesterol",
   "metadata": {
    "scrolled": true
   },
   "outputs": [
    {
     "name": "stdout",
     "output_type": "stream",
     "text": [
      "Defaulting to user installation because normal site-packages is not writeable\n",
      "Requirement already satisfied: mss in c:\\users\\snave\\appdata\\roaming\\python\\python310\\site-packages (9.0.1)\n",
      "Requirement already satisfied: pyautogui in c:\\users\\snave\\appdata\\roaming\\python\\python310\\site-packages (0.9.54)\n",
      "Requirement already satisfied: pytesseract in c:\\users\\snave\\appdata\\roaming\\python\\python310\\site-packages (0.3.10)\n",
      "Requirement already satisfied: pygetwindow>=0.0.5 in c:\\users\\snave\\appdata\\roaming\\python\\python310\\site-packages (from pyautogui) (0.0.9)\n",
      "Requirement already satisfied: pytweening>=1.0.4 in c:\\users\\snave\\appdata\\roaming\\python\\python310\\site-packages (from pyautogui) (1.0.7)\n",
      "Requirement already satisfied: mouseinfo in c:\\users\\snave\\appdata\\roaming\\python\\python310\\site-packages (from pyautogui) (0.1.3)\n",
      "Requirement already satisfied: pymsgbox in c:\\users\\snave\\appdata\\roaming\\python\\python310\\site-packages (from pyautogui) (1.0.9)\n",
      "Requirement already satisfied: pyscreeze>=0.1.21 in c:\\users\\snave\\appdata\\roaming\\python\\python310\\site-packages (from pyautogui) (0.1.29)\n",
      "Requirement already satisfied: Pillow>=8.0.0 in c:\\users\\snave\\appdata\\roaming\\python\\python310\\site-packages (from pytesseract) (10.0.1)\n",
      "Requirement already satisfied: packaging>=21.3 in c:\\users\\snave\\appdata\\roaming\\python\\python310\\site-packages (from pytesseract) (23.2)\n",
      "Requirement already satisfied: pyrect in c:\\users\\snave\\appdata\\roaming\\python\\python310\\site-packages (from pygetwindow>=0.0.5->pyautogui) (0.2.0)\n",
      "Requirement already satisfied: pyscreenshot in c:\\users\\snave\\appdata\\roaming\\python\\python310\\site-packages (from pyscreeze>=0.1.21->pyautogui) (3.1)\n",
      "Requirement already satisfied: pyperclip in c:\\users\\snave\\appdata\\roaming\\python\\python310\\site-packages (from mouseinfo->pyautogui) (1.8.2)\n",
      "Requirement already satisfied: EasyProcess in c:\\users\\snave\\appdata\\roaming\\python\\python310\\site-packages (from pyscreenshot->pyscreeze>=0.1.21->pyautogui) (1.1)\n",
      "Requirement already satisfied: entrypoint2 in c:\\users\\snave\\appdata\\roaming\\python\\python310\\site-packages (from pyscreenshot->pyscreeze>=0.1.21->pyautogui) (1.1)\n"
     ]
    },
    {
     "name": "stderr",
     "output_type": "stream",
     "text": [
      "\n",
      "[notice] A new release of pip available: 22.2.2 -> 23.2.1\n",
      "[notice] To update, run: python.exe -m pip install --upgrade pip\n"
     ]
    }
   ],
   "source": [
    "!pip install mss pyautogui pytesseract"
   ]
  },
  {
   "cell_type": "code",
   "execution_count": 1,
   "id": "killing-channel",
   "metadata": {},
   "outputs": [],
   "source": [
    "from mss import mss\n",
    "import pyautogui\n",
    "import cv2\n",
    "import numpy as np\n",
    "from matplotlib import pyplot as plt\n",
    "import time\n",
    "from gymnasium import Env\n",
    "from gymnasium.spaces import Box, Discrete\n",
    "\n",
    "import pytesseract\n",
    "pytesseract.pytesseract.tesseract_cmd = r'/usr/bin/tesseract'"
   ]
  },
  {
   "cell_type": "code",
   "execution_count": null,
   "id": "boring-retailer",
   "metadata": {},
   "outputs": [],
   "source": [
    "# #just testing dimensions\n",
    "\n",
    "# game_location = {'top': 125, 'left': 50, 'width': 60, 'height': 50}\n",
    "# img = mss().grab(game_location)\n",
    "# img = cv2.resize(np.array(img)[:, :, :3], (0, 0), fx=8, fy=8)\n",
    "# gray = cv2.cvtColor(img, cv2.COLOR_BGR2GRAY)\n",
    "# thr = cv2.cvtColor(cv2.threshold(gray, 0, 255, cv2.THRESH_BINARY + cv2.THRESH_OTSU)[1], cv2.COLOR_BGR2RGB)\n",
    "# plt.imshow(cv2.cvtColor(thr, cv2.COLOR_BGR2RGB))\n",
    "# pytesseract.image_to_string(thr, config=\"--psm 10 -c page_separator=''\")"
   ]
  },
  {
   "cell_type": "code",
   "execution_count": 29,
   "id": "systematic-regular",
   "metadata": {},
   "outputs": [],
   "source": []
  },
  {
   "cell_type": "code",
   "execution_count": 66,
   "id": "legitimate-browse",
   "metadata": {},
   "outputs": [
    {
     "name": "stdout",
     "output_type": "stream",
     "text": [
      "Total Reward for episode 0 is 1\n"
     ]
    }
   ],
   "source": [
    "# play the game but can be ignored for now\n",
    "\n",
    "# env = WebGame()\n",
    "\n",
    "# for episode in range(1):\n",
    "#     obs = env.reset()\n",
    "#     terminated = False\n",
    "#     total_reward = 0\n",
    "# #     obs, reward, terminated, truncated, info =  env.step(3)\n",
    "# #     obs, reward, terminated, truncated, info =  env.step(1)\n",
    "#     while not terminated:\n",
    "#         action = model.predict(obs[0].reshape((1, 100, 100)))\n",
    "#         # print(action)\n",
    "#         obs, reward, terminated, truncated, info =  env.step(int(action[0]))\n",
    "#         total_reward  += reward\n",
    "# #         if reward != 0:\n",
    "# #             print(terminated, env.get_score(), reward)\n",
    "#     print('Total Reward for episode {} is {}'.format(episode, total_reward))   "
   ]
  },
  {
   "cell_type": "code",
   "execution_count": 37,
   "id": "informed-geology",
   "metadata": {},
   "outputs": [],
   "source": [
    "# ! pip install stable_baselines3[extras]"
   ]
  },
  {
   "cell_type": "code",
   "execution_count": 2,
   "id": "olympic-boston",
   "metadata": {},
   "outputs": [],
   "source": [
    "# Import os for file path management\n",
    "import os \n",
    "# Import Base Callback for saving models\n",
    "from stable_baselines3.common.callbacks import BaseCallback\n",
    "# Check Environment    \n",
    "from stable_baselines3.common import env_checker"
   ]
  },
  {
   "cell_type": "code",
   "execution_count": 58,
   "id": "unexpected-event",
   "metadata": {},
   "outputs": [],
   "source": [
    "env_checker.check_env(env)"
   ]
  },
  {
   "cell_type": "code",
   "execution_count": 4,
   "id": "international-blackjack",
   "metadata": {},
   "outputs": [],
   "source": [
    "from stable_baselines3.common.callbacks import BaseCallback\n",
    "\n",
    "class TrainAndLoggingCallback(BaseCallback):\n",
    "\n",
    "    def __init__(self, check_freq, save_path, verbose=1):\n",
    "        super(TrainAndLoggingCallback, self).__init__(verbose)\n",
    "        self.check_freq = check_freq\n",
    "        self.save_path = save_path\n",
    "\n",
    "    def _init_callback(self):\n",
    "        if self.save_path is not None:\n",
    "            os.makedirs(self.save_path, exist_ok=True)\n",
    "\n",
    "    def _on_step(self):\n",
    "        if self.n_calls % self.check_freq == 0:\n",
    "            model_path = os.path.join(self.save_path, 'best_model_{}'.format(self.n_calls))\n",
    "            self.model.save(model_path)\n",
    "\n",
    "        return True\n"
   ]
  },
  {
   "cell_type": "code",
   "execution_count": 5,
   "id": "settled-bruce",
   "metadata": {},
   "outputs": [],
   "source": [
    "CHECKPOINT_DIR = './train/post'\n",
    "LOG_DIR = './logs/post'"
   ]
  },
  {
   "cell_type": "code",
   "execution_count": 6,
   "id": "immune-index",
   "metadata": {},
   "outputs": [],
   "source": [
    "callback = TrainAndLoggingCallback(check_freq=5000, save_path=CHECKPOINT_DIR)"
   ]
  },
  {
   "cell_type": "code",
   "execution_count": null,
   "id": "bbfe6a5c",
   "metadata": {},
   "outputs": [],
   "source": [
    "# !pip install stable-baselines3[extra]"
   ]
  },
  {
   "cell_type": "markdown",
   "id": "01320f30",
   "metadata": {},
   "source": [
    "1. Initialize previous_score in the constructor to keep track of the previous score.\n",
    "\n",
    "2. Calculate the reward based on whether the agent collected an apple or if the game is done (collided or game over).\n",
    "\n",
    "3. Update previous_score after calculating the reward to ensure consistency.\n",
    "\n",
    "4. Convert the score string obtained from OCR to an integer to correctly track the score."
   ]
  },
  {
   "cell_type": "code",
   "execution_count": 54,
   "id": "e9395db5",
   "metadata": {},
   "outputs": [],
   "source": [
    "class WebGame(Env):\n",
    "    def __init__(self):\n",
    "        super().__init__()\n",
    "        # Setup spaces\n",
    "        self.observation_space = Box(low=0, high=255, shape=(1, 100, 100), dtype=np.uint8)\n",
    "        self.action_space = Discrete(4)\n",
    "        # Capture game frames\n",
    "        self.cap = mss()\n",
    "        self.game_location = {'top': 100, 'left': 0, 'width': 600, 'height': 600}\n",
    "        self.done_location = {'top': 600, 'left': 635, 'width': 75, 'height': 50}\n",
    "        self.score_location = {'top': 125, 'left': 50, 'width': 60, 'height': 50}\n",
    "        self.previous_score = \"0\\n\"  # Initialize previous_score\n",
    "\n",
    "    def step(self, action):\n",
    "        action_map = {\n",
    "            0: 'up',\n",
    "            1: 'down',\n",
    "            2: 'left',\n",
    "            3: 'right'\n",
    "        }\n",
    "        prev_observation = self.get_observation()\n",
    "        pyautogui.press(action_map[action])\n",
    "\n",
    "        # We calculate reward based on collecting apples and avoiding collisions\n",
    "        reward = 0\n",
    "        done, _ = self.get_done()  # Now get done status\n",
    "        \n",
    "        current_score = self.get_score()\n",
    "        \n",
    "        if current_score != self.previous_score:\n",
    "            reward += 1  # Positive reward for collecting an apple\n",
    "        if done:\n",
    "            reward -= 1  # Negative reward for colliding or game over\n",
    "\n",
    "        # Update the previous_score\n",
    "        self.previous_score = current_score\n",
    "\n",
    "        observation = self.get_observation()\n",
    "\n",
    "        info = {}\n",
    "\n",
    "        return observation, reward, done, False, info\n",
    "\n",
    "    def reset(self, **kwargs):\n",
    "        self.previous_score = \"0\\n\" \n",
    "        time.sleep(0.5)\n",
    "        pyautogui.click(x=600, y=600)\n",
    "        time.sleep(0.5)\n",
    "        pyautogui.press('up')\n",
    "        self.frame = 2\n",
    "\n",
    "        return self.get_observation(), {}  # Return the initial observation\n",
    "\n",
    "    def get_observation(self):\n",
    "        raw = np.array(self.cap.grab(self.game_location))[:, :, :3].astype(np.uint8)\n",
    "        gray = cv2.cvtColor(raw, cv2.COLOR_BGR2GRAY)\n",
    "        resized = cv2.resize(gray, (100, 100))\n",
    "        channel = np.reshape(resized, (1, 100, 100))\n",
    "        return channel\n",
    "\n",
    "    def get_score(self):\n",
    "        score_cap = np.array(self.cap.grab(self.score_location))[:, :, :3]\n",
    "        img = cv2.resize(score_cap, (0, 0), fx=8, fy=8)\n",
    "        gray = cv2.cvtColor(img, cv2.COLOR_BGR2GRAY)\n",
    "        thr = cv2.cvtColor(cv2.threshold(gray, 0, 255, cv2.THRESH_BINARY + cv2.THRESH_OTSU)[1], cv2.COLOR_BGR2RGB)\n",
    "        score_string = pytesseract.image_to_string(thr, config=\"--psm 10 -c page_separator=''\")\n",
    "        \n",
    "        # Convert the score string to an integer\n",
    "#         try:\n",
    "#             score = int(score_string)\n",
    "#         except ValueError:\n",
    "#             score = 0\n",
    "\n",
    "        return score_string\n",
    "\n",
    "    def get_done(self):\n",
    "        done_cap = np.array(self.cap.grab(self.done_location))[:, :, :3]\n",
    "        img = cv2.resize(done_cap, (0, 0), fx=8, fy=8)\n",
    "        gray = cv2.cvtColor(img, cv2.COLOR_BGR2GRAY)\n",
    "        thr = cv2.cvtColor(cv2.threshold(gray, 0, 255, cv2.THRESH_BINARY + cv2.THRESH_OTSU)[1], cv2.COLOR_BGR2RGB)\n",
    "        done = False\n",
    "        res = pytesseract.image_to_string(thr)\n",
    "        if 'play' in res.lower():\n",
    "            done = True\n",
    "        return done, done_cap\n"
   ]
  },
  {
   "cell_type": "code",
   "execution_count": 45,
   "id": "likely-technology",
   "metadata": {},
   "outputs": [],
   "source": [
    "from stable_baselines3 import PPO, DQN"
   ]
  },
  {
   "cell_type": "code",
   "execution_count": 57,
   "id": "centered-trial",
   "metadata": {},
   "outputs": [],
   "source": [
    "env = WebGame()"
   ]
  },
  {
   "cell_type": "code",
   "execution_count": 79,
   "id": "binary-court",
   "metadata": {},
   "outputs": [
    {
     "data": {
      "text/plain": [
       "<matplotlib.image.AxesImage at 0x1953e0c3ca0>"
      ]
     },
     "execution_count": 79,
     "metadata": {},
     "output_type": "execute_result"
    },
    {
     "data": {
      "image/png": "[encoded data removed]",
      "text/plain": [
       "<Figure size 640x480 with 1 Axes>"
      ]
     },
     "metadata": {},
     "output_type": "display_data"
    }
   ],
   "source": [
    "# show observation\n",
    "plt.imshow(cv2.cvtColor(env.get_observation()[0], cv2.COLOR_BGR2RGB))"
   ]
  },
  {
   "cell_type": "code",
   "execution_count": 80,
   "id": "difficult-justice",
   "metadata": {},
   "outputs": [],
   "source": [
    "# trial to do some kind of resnet but I've also tried making the NatureCNN from the SB3 website wider and denser\n",
    "\n",
    "from torch import nn\n",
    "import torch as th\n",
    "from stable_baselines3.common.torch_layers import BaseFeaturesExtractor\n",
    "\n",
    "class CNNPart(nn.Module):\n",
    "    def __init__(self, n_input_channels):\n",
    "        super().__init__()\n",
    "        \n",
    "        self.convblock1 = nn.Sequential(\n",
    "            nn.Conv2d(n_input_channels, 128, kernel_size=5, stride=1, padding=2),\n",
    "            nn.BatchNorm2d(128), \n",
    "            nn.ReLU(),)\n",
    "        \n",
    "        self.convblock2 = nn.Sequential(\n",
    "            nn.Conv2d(128, 128, kernel_size=5, stride=1, padding=2),\n",
    "            nn.BatchNorm2d(128),\n",
    "            nn.ReLU(),)\n",
    "        \n",
    "        self.convblock3 = nn.Sequential(\n",
    "            nn.Conv2d(128, 128, kernel_size=5, stride=1, padding=2), \n",
    "            nn.BatchNorm2d(128),  \n",
    "            nn.ReLU(),)\n",
    "        \n",
    "        self.pool = nn.AvgPool2d(2, 2)\n",
    "    \n",
    "    def forward(self, x):\n",
    "        x1 = self.pool(self.convblock1(x))\n",
    "        x2 = self.pool(self.convblock2(x1))\n",
    "        x3 = self.convblock3(x2) + x2 + self.pool(x1)\n",
    "        return nn.Flatten()(x3)\n",
    "    \n",
    "\n",
    "class CustomNatureCNN(BaseFeaturesExtractor):\n",
    "    def __init__(self, observation_space, features_dim=512):\n",
    "        super().__init__(observation_space, features_dim)\n",
    "\n",
    "        n_input_channels = observation_space.shape[0]\n",
    "        \n",
    "        self.cnn = CNNPart(n_input_channels)\n",
    "\n",
    "        with th.no_grad():\n",
    "            n_flatten = self.cnn(th.as_tensor(observation_space.sample()[None]).float()).shape[1]\n",
    "\n",
    "        self.linear = nn.Sequential(\n",
    "            nn.Linear(n_flatten, features_dim * 4),  # New Layer\n",
    "            nn.BatchNorm1d(features_dim * 4),  # New Layer\n",
    "            nn.ReLU(),  # New Layer\n",
    "            \n",
    "            nn.Linear(features_dim * 4, features_dim * 2),\n",
    "            nn.BatchNorm1d(features_dim * 2),  # Added BatchNorm\n",
    "            nn.ReLU(),\n",
    "            \n",
    "            nn.Linear(features_dim * 2, features_dim),  # New Layer\n",
    "            nn.BatchNorm1d(features_dim),  # New Layer\n",
    "            nn.ReLU(),  # New Layer\n",
    "        )\n",
    "\n",
    "    def forward(self, x):\n",
    "        x = self.cnn(x)\n",
    "        return self.linear(x)"
   ]
  },
  {
   "cell_type": "code",
   "execution_count": 59,
   "id": "honey-bonus",
   "metadata": {},
   "outputs": [
    {
     "name": "stdout",
     "output_type": "stream",
     "text": [
      "Using cpu device\n",
      "Wrapping the env with a `Monitor` wrapper\n",
      "Wrapping the env in a DummyVecEnv.\n"
     ]
    }
   ],
   "source": [
    "model = PPO('CnnPolicy', env, tensorboard_log=LOG_DIR, verbose=1, learning_rate=0.0003, n_steps=128, ent_coef=0.01, gamma=0.97)#, policy_kwargs=dict(features_extractor_class=CustomNatureCNN))\n",
    "# model = DQN('CnnPolicy', env, tensorboard_log=LOG_DIR, verbose=1, buffer_size=10000)"
   ]
  },
  {
   "cell_type": "code",
   "execution_count": 60,
   "id": "jewish-reminder",
   "metadata": {},
   "outputs": [
    {
     "name": "stdout",
     "output_type": "stream",
     "text": [
      "Logging to ./logs/post/PPO_1\n",
      "---------------------------------\n",
      "| rollout/           |          |\n",
      "|    ep_len_mean     | 11.3     |\n",
      "|    ep_rew_mean     | -0.818   |\n",
      "| time/              |          |\n",
      "|    fps             | 2        |\n",
      "|    iterations      | 1        |\n",
      "|    time_elapsed    | 58       |\n",
      "|    total_timesteps | 128      |\n",
      "---------------------------------\n",
      "-----------------------------------------\n",
      "| rollout/                |             |\n",
      "|    ep_len_mean          | 10.9        |\n",
      "|    ep_rew_mean          | -0.909      |\n",
      "| time/                   |             |\n",
      "|    fps                  | 2           |\n",
      "|    iterations           | 2           |\n",
      "|    time_elapsed         | 116         |\n",
      "|    total_timesteps      | 256         |\n",
      "| train/                  |             |\n",
      "|    approx_kl            | 0.010537297 |\n",
      "|    clip_fraction        | 0.0516      |\n",
      "|    clip_range           | 0.2         |\n",
      "|    entropy_loss         | -1.38       |\n",
      "|    explained_variance   | 0.0487      |\n",
      "|    learning_rate        | 0.0003      |\n",
      "|    loss                 | 0.0923      |\n",
      "|    n_updates            | 10          |\n",
      "|    policy_gradient_loss | -0.0145     |\n",
      "|    value_loss           | 1.94        |\n",
      "-----------------------------------------\n",
      "------------------------------------------\n",
      "| rollout/                |              |\n",
      "|    ep_len_mean          | 11.2         |\n",
      "|    ep_rew_mean          | -0.879       |\n",
      "| time/                   |              |\n",
      "|    fps                  | 2            |\n",
      "|    iterations           | 3            |\n",
      "|    time_elapsed         | 174          |\n",
      "|    total_timesteps      | 384          |\n",
      "| train/                  |              |\n",
      "|    approx_kl            | 0.0107219815 |\n",
      "|    clip_fraction        | 0.025        |\n",
      "|    clip_range           | 0.2          |\n",
      "|    entropy_loss         | -1.37        |\n",
      "|    explained_variance   | 0.0879       |\n",
      "|    learning_rate        | 0.0003       |\n",
      "|    loss                 | -0.0035      |\n",
      "|    n_updates            | 20           |\n",
      "|    policy_gradient_loss | -0.00817     |\n",
      "|    value_loss           | 0.0256       |\n",
      "------------------------------------------\n",
      "-----------------------------------------\n",
      "| rollout/                |             |\n",
      "|    ep_len_mean          | 11.5        |\n",
      "|    ep_rew_mean          | -0.841      |\n",
      "| time/                   |             |\n",
      "|    fps                  | 2           |\n",
      "|    iterations           | 4           |\n",
      "|    time_elapsed         | 232         |\n",
      "|    total_timesteps      | 512         |\n",
      "| train/                  |             |\n",
      "|    approx_kl            | 0.009171283 |\n",
      "|    clip_fraction        | 0.032       |\n",
      "|    clip_range           | 0.2         |\n",
      "|    entropy_loss         | -1.38       |\n",
      "|    explained_variance   | -0.0122     |\n",
      "|    learning_rate        | 0.0003      |\n",
      "|    loss                 | 0.0503      |\n",
      "|    n_updates            | 30          |\n",
      "|    policy_gradient_loss | -0.0109     |\n",
      "|    value_loss           | 0.173       |\n",
      "-----------------------------------------\n",
      "-----------------------------------------\n",
      "| rollout/                |             |\n",
      "|    ep_len_mean          | 11.4        |\n",
      "|    ep_rew_mean          | -0.782      |\n",
      "| time/                   |             |\n",
      "|    fps                  | 2           |\n",
      "|    iterations           | 5           |\n",
      "|    time_elapsed         | 290         |\n",
      "|    total_timesteps      | 640         |\n",
      "| train/                  |             |\n",
      "|    approx_kl            | 0.009081723 |\n",
      "|    clip_fraction        | 0.147       |\n",
      "|    clip_range           | 0.2         |\n",
      "|    entropy_loss         | -1.36       |\n",
      "|    explained_variance   | 0.00996     |\n",
      "|    learning_rate        | 0.0003      |\n",
      "|    loss                 | 0.0582      |\n",
      "|    n_updates            | 40          |\n",
      "|    policy_gradient_loss | -0.0163     |\n",
      "|    value_loss           | 0.194       |\n",
      "-----------------------------------------\n",
      "----------------------------------------\n",
      "| rollout/                |            |\n",
      "|    ep_len_mean          | 11.3       |\n",
      "|    ep_rew_mean          | -0.794     |\n",
      "| time/                   |            |\n",
      "|    fps                  | 2          |\n",
      "|    iterations           | 6          |\n",
      "|    time_elapsed         | 351        |\n",
      "|    total_timesteps      | 768        |\n",
      "| train/                  |            |\n",
      "|    approx_kl            | 0.01383858 |\n",
      "|    clip_fraction        | 0.172      |\n",
      "|    clip_range           | 0.2        |\n",
      "|    entropy_loss         | -1.32      |\n",
      "|    explained_variance   | -0.104     |\n",
      "|    learning_rate        | 0.0003     |\n",
      "|    loss                 | 0.0764     |\n",
      "|    n_updates            | 50         |\n",
      "|    policy_gradient_loss | -0.0114    |\n",
      "|    value_loss           | 0.233      |\n",
      "----------------------------------------\n",
      "-----------------------------------------\n",
      "| rollout/                |             |\n",
      "|    ep_len_mean          | 11.6        |\n",
      "|    ep_rew_mean          | -0.816      |\n",
      "| time/                   |             |\n",
      "|    fps                  | 2           |\n",
      "|    iterations           | 7           |\n",
      "|    time_elapsed         | 405         |\n",
      "|    total_timesteps      | 896         |\n",
      "| train/                  |             |\n",
      "|    approx_kl            | 0.015650868 |\n",
      "|    clip_fraction        | 0.127       |\n",
      "|    clip_range           | 0.2         |\n",
      "|    entropy_loss         | -1.35       |\n",
      "|    explained_variance   | 0.0596      |\n",
      "|    learning_rate        | 0.0003      |\n",
      "|    loss                 | 0.0149      |\n",
      "|    n_updates            | 60          |\n",
      "|    policy_gradient_loss | -0.013      |\n",
      "|    value_loss           | 0.12        |\n",
      "-----------------------------------------\n",
      "-----------------------------------------\n",
      "| rollout/                |             |\n",
      "|    ep_len_mean          | 11.2        |\n",
      "|    ep_rew_mean          | -0.846      |\n",
      "| time/                   |             |\n",
      "|    fps                  | 2           |\n",
      "|    iterations           | 8           |\n",
      "|    time_elapsed         | 473         |\n",
      "|    total_timesteps      | 1024        |\n",
      "| train/                  |             |\n",
      "|    approx_kl            | 0.015899207 |\n",
      "|    clip_fraction        | 0.111       |\n",
      "|    clip_range           | 0.2         |\n",
      "|    entropy_loss         | -1.34       |\n",
      "|    explained_variance   | 0.4         |\n",
      "|    learning_rate        | 0.0003      |\n",
      "|    loss                 | -0.00839    |\n",
      "|    n_updates            | 70          |\n",
      "|    policy_gradient_loss | -0.0113     |\n",
      "|    value_loss           | 0.0109      |\n",
      "-----------------------------------------\n"
     ]
    },
    {
     "data": {
      "text/plain": [
       "<stable_baselines3.ppo.ppo.PPO at 0x7f43d127c8e0>"
      ]
     },
     "execution_count": 60,
     "metadata": {},
     "output_type": "execute_result"
    }
   ],
   "source": [
    "model.learn(total_timesteps=25000, callback=callback)  # Increase the total timesteps"
   ]
  },
  {
   "cell_type": "code",
   "execution_count": null,
   "id": "nervous-pointer",
   "metadata": {},
   "outputs": [],
   "source": [
    "model = PPO.load('./train/post/best_model_10000.zip', env)"
   ]
  },
  {
   "cell_type": "code",
   "execution_count": 62,
   "id": "flying-bloom",
   "metadata": {
    "scrolled": true
   },
   "outputs": [
    {
     "name": "stdout",
     "output_type": "stream",
     "text": [
      "TensorFlow installation not found - running with reduced feature set.\n",
      "/home/vini_suaiden/.local/lib/python3.9/site-packages/tensorboard_data_server/bin/server: /lib/x86_64-linux-gnu/libc.so.6: version `GLIBC_2.33' not found (required by /home/vini_suaiden/.local/lib/python3.9/site-packages/tensorboard_data_server/bin/server)\n",
      "/home/vini_suaiden/.local/lib/python3.9/site-packages/tensorboard_data_server/bin/server: /lib/x86_64-linux-gnu/libc.so.6: version `GLIBC_2.34' not found (required by /home/vini_suaiden/.local/lib/python3.9/site-packages/tensorboard_data_server/bin/server)\n",
      "/home/vini_suaiden/.local/lib/python3.9/site-packages/tensorboard_data_server/bin/server: /lib/x86_64-linux-gnu/libc.so.6: version `GLIBC_2.32' not found (required by /home/vini_suaiden/.local/lib/python3.9/site-packages/tensorboard_data_server/bin/server)\n",
      "Serving TensorBoard on localhost; to expose to the network, use a proxy or pass --bind_all\n",
      "TensorBoard 2.14.1 at http://localhost:6006/ (Press CTRL+C to quit)\n",
      "^C\n"
     ]
    }
   ],
   "source": [
    "!tensorboard --logdir=logs/post/PPO_1"
   ]
  },
  {
   "cell_type": "code",
   "execution_count": 61,
   "id": "blank-native",
   "metadata": {
    "scrolled": false
   },
   "outputs": [
    {
     "name": "stdout",
     "output_type": "stream",
     "text": [
      "PPO_1\r\n"
     ]
    }
   ],
   "source": [
    "!ls logs/post"
   ]
  },
  {
   "cell_type": "code",
   "execution_count": null,
   "id": "limiting-fabric",
   "metadata": {},
   "outputs": [],
   "source": []
  }
 ],
 "metadata": {
  "kernelspec": {
   "display_name": "Python 3",
   "language": "python",
   "name": "python3"
  },
  "language_info": {
   "codemirror_mode": {
    "name": "ipython",
    "version": 3
   },
   "file_extension": ".py",
   "mimetype": "text/x-python",
   "name": "python",
   "nbconvert_exporter": "python",
   "pygments_lexer": "ipython3",
   "version": "3.9.2"
  }
 },
 "nbformat": 4,
 "nbformat_minor": 5
}
